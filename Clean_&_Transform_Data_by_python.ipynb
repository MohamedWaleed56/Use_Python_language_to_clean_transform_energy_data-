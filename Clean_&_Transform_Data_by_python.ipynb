{
 "cells": [
  {
   "cell_type": "markdown",
   "id": "representative-aerospace",
   "metadata": {
    "ExecuteTime": {
     "end_time": "2023-02-24T13:02:16.586005Z",
     "start_time": "2023-02-24T13:02:15.846294Z"
    }
   },
   "source": [
    "# Energy Supply and Renewable Electricity Production"
   ]
  },
  {
   "cell_type": "markdown",
   "id": "affected-pasta",
   "metadata": {
    "ExecuteTime": {
     "end_time": "2023-03-11T09:34:02.649746Z",
     "start_time": "2023-03-11T09:34:02.630074Z"
    }
   },
   "source": [
    "------------------------------------------------------------------------------------------------------"
   ]
  },
  {
   "cell_type": "markdown",
   "id": "fabulous-geography",
   "metadata": {},
   "source": [
    "## Objectives:\n",
    "    \n",
    "    - Data Cleaning\n",
    "    - Data Tarnsformation\n",
    "    - Merge Different dataSources \n",
    "    - EDA "
   ]
  },
  {
   "cell_type": "markdown",
   "id": "acknowledged-buffalo",
   "metadata": {},
   "source": [
    "-------------------------------------------------"
   ]
  },
  {
   "cell_type": "markdown",
   "id": "latest-conjunction",
   "metadata": {},
   "source": [
    "Used Packages & Libraries\n",
    "---\n",
    "    - Pandas\n",
    "    - Numpy"
   ]
  },
  {
   "cell_type": "markdown",
   "id": "derived-bidding",
   "metadata": {},
   "source": [
    "-------------------------------------------------"
   ]
  },
  {
   "cell_type": "markdown",
   "id": "possible-adoption",
   "metadata": {},
   "source": [
    "Datasets:\n",
    "-------\n",
    "    * Energy Indicators.xls\n",
    "    * scimagojr-3.xlsx\n",
    "    * world_bank.csv\n",
    "    \n",
    "*To download the datasets make sure to check the datasets folder in the repository*"
   ]
  },
  {
   "cell_type": "markdown",
   "id": "third-diana",
   "metadata": {
    "ExecuteTime": {
     "end_time": "2023-03-11T09:59:01.249335Z",
     "start_time": "2023-03-11T09:59:01.240694Z"
    }
   },
   "source": [
    "--------------------------------------"
   ]
  },
  {
   "cell_type": "markdown",
   "id": "declared-gambling",
   "metadata": {},
   "source": [
    "## Some of Answered Questions in this Project:\n",
    "\n",
    "    * What is the Average `GDP` over the last 10 years for each country?\n",
    "    \n",
    "    * What is the mean of `Energy Supply per Capita`?\n",
    "    \n",
    "    * What country has the maximum `% Renewable`? And what is the percentage?\n",
    "    \n",
    "    * What are the `ratios of Self-Citations to Total-Citations`? And what is the maximum value?\n",
    "    \n",
    "    * Which `country` has the maximum ratio?\n",
    "    \n",
    "    * What is the `distribution of my % Renewable column`? \n",
    "    \n",
    "    * What is the `size, Sum, meanand the STD` for the estimated population for each country?"
   ]
  },
  {
   "cell_type": "markdown",
   "id": "major-cattle",
   "metadata": {},
   "source": [
    "-------------------------------------------"
   ]
  },
  {
   "cell_type": "code",
   "execution_count": 1,
   "id": "furnished-rocket",
   "metadata": {
    "ExecuteTime": {
     "end_time": "2023-03-11T09:59:32.359337Z",
     "start_time": "2023-03-11T09:59:25.955581Z"
    }
   },
   "outputs": [],
   "source": [
    "## import needed libraries\n",
    "import pandas as pd\n",
    "import numpy as np\n",
    "import seaborn as sns\n",
    "import matplotlib.pyplot as plt"
   ]
  },
  {
   "cell_type": "markdown",
   "id": "minimal-seventh",
   "metadata": {},
   "source": [
    "## Load Data from Excel file without header & footer"
   ]
  },
  {
   "cell_type": "code",
   "execution_count": 2,
   "id": "environmental-disposition",
   "metadata": {
    "ExecuteTime": {
     "end_time": "2023-03-11T09:59:32.724643Z",
     "start_time": "2023-03-11T09:59:32.362814Z"
    }
   },
   "outputs": [
    {
     "data": {
      "text/html": [
       "<div>\n",
       "<style scoped>\n",
       "    .dataframe tbody tr th:only-of-type {\n",
       "        vertical-align: middle;\n",
       "    }\n",
       "\n",
       "    .dataframe tbody tr th {\n",
       "        vertical-align: top;\n",
       "    }\n",
       "\n",
       "    .dataframe thead th {\n",
       "        text-align: right;\n",
       "    }\n",
       "</style>\n",
       "<table border=\"1\" class=\"dataframe\">\n",
       "  <thead>\n",
       "    <tr style=\"text-align: right;\">\n",
       "      <th></th>\n",
       "      <th>Unnamed: 0</th>\n",
       "      <th>Unnamed: 1</th>\n",
       "      <th>Unnamed: 2</th>\n",
       "      <th>Petajoules</th>\n",
       "      <th>Gigajoules</th>\n",
       "      <th>%</th>\n",
       "    </tr>\n",
       "  </thead>\n",
       "  <tbody>\n",
       "    <tr>\n",
       "      <th>0</th>\n",
       "      <td>NaN</td>\n",
       "      <td>Afghanistan</td>\n",
       "      <td>Afghanistan</td>\n",
       "      <td>321</td>\n",
       "      <td>10</td>\n",
       "      <td>78.669280</td>\n",
       "    </tr>\n",
       "    <tr>\n",
       "      <th>1</th>\n",
       "      <td>NaN</td>\n",
       "      <td>Albania</td>\n",
       "      <td>Albania</td>\n",
       "      <td>102</td>\n",
       "      <td>35</td>\n",
       "      <td>100.000000</td>\n",
       "    </tr>\n",
       "    <tr>\n",
       "      <th>2</th>\n",
       "      <td>NaN</td>\n",
       "      <td>Algeria</td>\n",
       "      <td>Algeria</td>\n",
       "      <td>1959</td>\n",
       "      <td>51</td>\n",
       "      <td>0.551010</td>\n",
       "    </tr>\n",
       "    <tr>\n",
       "      <th>3</th>\n",
       "      <td>NaN</td>\n",
       "      <td>American Samoa</td>\n",
       "      <td>American Samoa</td>\n",
       "      <td>...</td>\n",
       "      <td>...</td>\n",
       "      <td>0.641026</td>\n",
       "    </tr>\n",
       "    <tr>\n",
       "      <th>4</th>\n",
       "      <td>NaN</td>\n",
       "      <td>Andorra</td>\n",
       "      <td>Andorra</td>\n",
       "      <td>9</td>\n",
       "      <td>121</td>\n",
       "      <td>88.695650</td>\n",
       "    </tr>\n",
       "    <tr>\n",
       "      <th>...</th>\n",
       "      <td>...</td>\n",
       "      <td>...</td>\n",
       "      <td>...</td>\n",
       "      <td>...</td>\n",
       "      <td>...</td>\n",
       "      <td>...</td>\n",
       "    </tr>\n",
       "    <tr>\n",
       "      <th>222</th>\n",
       "      <td>NaN</td>\n",
       "      <td>Viet Nam</td>\n",
       "      <td>Viet Nam</td>\n",
       "      <td>2554</td>\n",
       "      <td>28</td>\n",
       "      <td>45.321520</td>\n",
       "    </tr>\n",
       "    <tr>\n",
       "      <th>223</th>\n",
       "      <td>NaN</td>\n",
       "      <td>Wallis and Futuna Islands</td>\n",
       "      <td>Wallis and Futuna Islands</td>\n",
       "      <td>0</td>\n",
       "      <td>26</td>\n",
       "      <td>0.000000</td>\n",
       "    </tr>\n",
       "    <tr>\n",
       "      <th>224</th>\n",
       "      <td>NaN</td>\n",
       "      <td>Yemen</td>\n",
       "      <td>Yemen</td>\n",
       "      <td>344</td>\n",
       "      <td>13</td>\n",
       "      <td>0.000000</td>\n",
       "    </tr>\n",
       "    <tr>\n",
       "      <th>225</th>\n",
       "      <td>NaN</td>\n",
       "      <td>Zambia</td>\n",
       "      <td>Zambia</td>\n",
       "      <td>400</td>\n",
       "      <td>26</td>\n",
       "      <td>99.714670</td>\n",
       "    </tr>\n",
       "    <tr>\n",
       "      <th>226</th>\n",
       "      <td>NaN</td>\n",
       "      <td>Zimbabwe</td>\n",
       "      <td>Zimbabwe</td>\n",
       "      <td>480</td>\n",
       "      <td>32</td>\n",
       "      <td>52.536120</td>\n",
       "    </tr>\n",
       "  </tbody>\n",
       "</table>\n",
       "<p>227 rows × 6 columns</p>\n",
       "</div>"
      ],
      "text/plain": [
       "     Unnamed: 0                 Unnamed: 1                 Unnamed: 2  \\\n",
       "0           NaN                Afghanistan                Afghanistan   \n",
       "1           NaN                    Albania                    Albania   \n",
       "2           NaN                    Algeria                    Algeria   \n",
       "3           NaN             American Samoa             American Samoa   \n",
       "4           NaN                    Andorra                    Andorra   \n",
       "..          ...                        ...                        ...   \n",
       "222         NaN                   Viet Nam                   Viet Nam   \n",
       "223         NaN  Wallis and Futuna Islands  Wallis and Futuna Islands   \n",
       "224         NaN                      Yemen                      Yemen   \n",
       "225         NaN                     Zambia                     Zambia   \n",
       "226         NaN                   Zimbabwe                   Zimbabwe   \n",
       "\n",
       "    Petajoules Gigajoules           %  \n",
       "0          321         10   78.669280  \n",
       "1          102         35  100.000000  \n",
       "2         1959         51    0.551010  \n",
       "3          ...        ...    0.641026  \n",
       "4            9        121   88.695650  \n",
       "..         ...        ...         ...  \n",
       "222       2554         28   45.321520  \n",
       "223          0         26    0.000000  \n",
       "224        344         13    0.000000  \n",
       "225        400         26   99.714670  \n",
       "226        480         32   52.536120  \n",
       "\n",
       "[227 rows x 6 columns]"
      ]
     },
     "execution_count": 2,
     "metadata": {},
     "output_type": "execute_result"
    }
   ],
   "source": [
    "## loading the data of energy \n",
    "\n",
    "energy = pd.read_excel(\"Energy Indicators.xls\" , header=17 , skipfooter=38)\n",
    "energy"
   ]
  },
  {
   "cell_type": "code",
   "execution_count": 3,
   "id": "identified-henry",
   "metadata": {
    "ExecuteTime": {
     "end_time": "2023-03-11T09:59:32.748826Z",
     "start_time": "2023-03-11T09:59:32.729274Z"
    }
   },
   "outputs": [],
   "source": [
    "energy.drop(['Unnamed: 0' , 'Unnamed: 1'] , axis = 1 , inplace = True)"
   ]
  },
  {
   "cell_type": "code",
   "execution_count": 4,
   "id": "coordinated-giving",
   "metadata": {
    "ExecuteTime": {
     "end_time": "2023-03-11T09:59:32.937184Z",
     "start_time": "2023-03-11T09:59:32.754126Z"
    }
   },
   "outputs": [
    {
     "data": {
      "text/html": [
       "<div>\n",
       "<style scoped>\n",
       "    .dataframe tbody tr th:only-of-type {\n",
       "        vertical-align: middle;\n",
       "    }\n",
       "\n",
       "    .dataframe tbody tr th {\n",
       "        vertical-align: top;\n",
       "    }\n",
       "\n",
       "    .dataframe thead th {\n",
       "        text-align: right;\n",
       "    }\n",
       "</style>\n",
       "<table border=\"1\" class=\"dataframe\">\n",
       "  <thead>\n",
       "    <tr style=\"text-align: right;\">\n",
       "      <th></th>\n",
       "      <th>Unnamed: 2</th>\n",
       "      <th>Petajoules</th>\n",
       "      <th>Gigajoules</th>\n",
       "      <th>%</th>\n",
       "    </tr>\n",
       "  </thead>\n",
       "  <tbody>\n",
       "    <tr>\n",
       "      <th>0</th>\n",
       "      <td>Afghanistan</td>\n",
       "      <td>321</td>\n",
       "      <td>10</td>\n",
       "      <td>78.669280</td>\n",
       "    </tr>\n",
       "    <tr>\n",
       "      <th>1</th>\n",
       "      <td>Albania</td>\n",
       "      <td>102</td>\n",
       "      <td>35</td>\n",
       "      <td>100.000000</td>\n",
       "    </tr>\n",
       "    <tr>\n",
       "      <th>2</th>\n",
       "      <td>Algeria</td>\n",
       "      <td>1959</td>\n",
       "      <td>51</td>\n",
       "      <td>0.551010</td>\n",
       "    </tr>\n",
       "    <tr>\n",
       "      <th>3</th>\n",
       "      <td>American Samoa</td>\n",
       "      <td>...</td>\n",
       "      <td>...</td>\n",
       "      <td>0.641026</td>\n",
       "    </tr>\n",
       "    <tr>\n",
       "      <th>4</th>\n",
       "      <td>Andorra</td>\n",
       "      <td>9</td>\n",
       "      <td>121</td>\n",
       "      <td>88.695650</td>\n",
       "    </tr>\n",
       "  </tbody>\n",
       "</table>\n",
       "</div>"
      ],
      "text/plain": [
       "       Unnamed: 2 Petajoules Gigajoules           %\n",
       "0     Afghanistan        321         10   78.669280\n",
       "1         Albania        102         35  100.000000\n",
       "2         Algeria       1959         51    0.551010\n",
       "3  American Samoa        ...        ...    0.641026\n",
       "4         Andorra          9        121   88.695650"
      ]
     },
     "execution_count": 4,
     "metadata": {},
     "output_type": "execute_result"
    }
   ],
   "source": [
    "energy.head()"
   ]
  },
  {
   "cell_type": "code",
   "execution_count": 5,
   "id": "metric-uniform",
   "metadata": {
    "ExecuteTime": {
     "end_time": "2023-03-11T09:59:33.126207Z",
     "start_time": "2023-03-11T09:59:32.940703Z"
    }
   },
   "outputs": [
    {
     "data": {
      "text/html": [
       "<div>\n",
       "<style scoped>\n",
       "    .dataframe tbody tr th:only-of-type {\n",
       "        vertical-align: middle;\n",
       "    }\n",
       "\n",
       "    .dataframe tbody tr th {\n",
       "        vertical-align: top;\n",
       "    }\n",
       "\n",
       "    .dataframe thead th {\n",
       "        text-align: right;\n",
       "    }\n",
       "</style>\n",
       "<table border=\"1\" class=\"dataframe\">\n",
       "  <thead>\n",
       "    <tr style=\"text-align: right;\">\n",
       "      <th></th>\n",
       "      <th>Country</th>\n",
       "      <th>Energy Supply</th>\n",
       "      <th>Energy Supply per Capita</th>\n",
       "      <th>% Renewable</th>\n",
       "    </tr>\n",
       "  </thead>\n",
       "  <tbody>\n",
       "    <tr>\n",
       "      <th>0</th>\n",
       "      <td>Afghanistan</td>\n",
       "      <td>321</td>\n",
       "      <td>10</td>\n",
       "      <td>78.669280</td>\n",
       "    </tr>\n",
       "    <tr>\n",
       "      <th>1</th>\n",
       "      <td>Albania</td>\n",
       "      <td>102</td>\n",
       "      <td>35</td>\n",
       "      <td>100.000000</td>\n",
       "    </tr>\n",
       "    <tr>\n",
       "      <th>2</th>\n",
       "      <td>Algeria</td>\n",
       "      <td>1959</td>\n",
       "      <td>51</td>\n",
       "      <td>0.551010</td>\n",
       "    </tr>\n",
       "    <tr>\n",
       "      <th>3</th>\n",
       "      <td>American Samoa</td>\n",
       "      <td>...</td>\n",
       "      <td>...</td>\n",
       "      <td>0.641026</td>\n",
       "    </tr>\n",
       "    <tr>\n",
       "      <th>4</th>\n",
       "      <td>Andorra</td>\n",
       "      <td>9</td>\n",
       "      <td>121</td>\n",
       "      <td>88.695650</td>\n",
       "    </tr>\n",
       "  </tbody>\n",
       "</table>\n",
       "</div>"
      ],
      "text/plain": [
       "          Country Energy Supply Energy Supply per Capita  % Renewable\n",
       "0     Afghanistan           321                       10    78.669280\n",
       "1         Albania           102                       35   100.000000\n",
       "2         Algeria          1959                       51     0.551010\n",
       "3  American Samoa           ...                      ...     0.641026\n",
       "4         Andorra             9                      121    88.695650"
      ]
     },
     "execution_count": 5,
     "metadata": {},
     "output_type": "execute_result"
    }
   ],
   "source": [
    "## change column labels\n",
    "energy.rename(columns = {'Unnamed: 2':'Country' , 'Petajoules':'Energy Supply' , 'Gigajoules':'Energy Supply per Capita' , '%':'% Renewable'} , inplace = True)\n",
    "energy.head()"
   ]
  },
  {
   "cell_type": "code",
   "execution_count": 6,
   "id": "negative-offset",
   "metadata": {
    "ExecuteTime": {
     "end_time": "2023-03-11T09:59:33.228030Z",
     "start_time": "2023-03-11T09:59:33.129849Z"
    }
   },
   "outputs": [],
   "source": [
    "### change missing value to null\n",
    "energy = energy.replace('...' , np.nan)"
   ]
  },
  {
   "cell_type": "code",
   "execution_count": 7,
   "id": "younger-recording",
   "metadata": {
    "ExecuteTime": {
     "end_time": "2023-03-11T09:59:33.506895Z",
     "start_time": "2023-03-11T09:59:33.231616Z"
    }
   },
   "outputs": [
    {
     "data": {
      "text/html": [
       "<div>\n",
       "<style scoped>\n",
       "    .dataframe tbody tr th:only-of-type {\n",
       "        vertical-align: middle;\n",
       "    }\n",
       "\n",
       "    .dataframe tbody tr th {\n",
       "        vertical-align: top;\n",
       "    }\n",
       "\n",
       "    .dataframe thead th {\n",
       "        text-align: right;\n",
       "    }\n",
       "</style>\n",
       "<table border=\"1\" class=\"dataframe\">\n",
       "  <thead>\n",
       "    <tr style=\"text-align: right;\">\n",
       "      <th></th>\n",
       "      <th>Country</th>\n",
       "      <th>Energy Supply</th>\n",
       "      <th>Energy Supply per Capita</th>\n",
       "      <th>% Renewable</th>\n",
       "    </tr>\n",
       "  </thead>\n",
       "  <tbody>\n",
       "    <tr>\n",
       "      <th>0</th>\n",
       "      <td>Afghanistan</td>\n",
       "      <td>3.210000e+08</td>\n",
       "      <td>10.0</td>\n",
       "      <td>78.669280</td>\n",
       "    </tr>\n",
       "    <tr>\n",
       "      <th>1</th>\n",
       "      <td>Albania</td>\n",
       "      <td>1.020000e+08</td>\n",
       "      <td>35.0</td>\n",
       "      <td>100.000000</td>\n",
       "    </tr>\n",
       "    <tr>\n",
       "      <th>2</th>\n",
       "      <td>Algeria</td>\n",
       "      <td>1.959000e+09</td>\n",
       "      <td>51.0</td>\n",
       "      <td>0.551010</td>\n",
       "    </tr>\n",
       "    <tr>\n",
       "      <th>3</th>\n",
       "      <td>American Samoa</td>\n",
       "      <td>NaN</td>\n",
       "      <td>NaN</td>\n",
       "      <td>0.641026</td>\n",
       "    </tr>\n",
       "    <tr>\n",
       "      <th>4</th>\n",
       "      <td>Andorra</td>\n",
       "      <td>9.000000e+06</td>\n",
       "      <td>121.0</td>\n",
       "      <td>88.695650</td>\n",
       "    </tr>\n",
       "  </tbody>\n",
       "</table>\n",
       "</div>"
      ],
      "text/plain": [
       "          Country  Energy Supply  Energy Supply per Capita  % Renewable\n",
       "0     Afghanistan   3.210000e+08                      10.0    78.669280\n",
       "1         Albania   1.020000e+08                      35.0   100.000000\n",
       "2         Algeria   1.959000e+09                      51.0     0.551010\n",
       "3  American Samoa            NaN                       NaN     0.641026\n",
       "4         Andorra   9.000000e+06                     121.0    88.695650"
      ]
     },
     "execution_count": 7,
     "metadata": {},
     "output_type": "execute_result"
    }
   ],
   "source": [
    "## convert energy supply to petajoule\n",
    "energy['Energy Supply'] = energy['Energy Supply']*1000000\n",
    "energy.head()"
   ]
  },
  {
   "cell_type": "code",
   "execution_count": 8,
   "id": "centered-placement",
   "metadata": {
    "ExecuteTime": {
     "end_time": "2023-03-11T09:59:33.587588Z",
     "start_time": "2023-03-11T09:59:33.513427Z"
    }
   },
   "outputs": [],
   "source": [
    "# replacing the list of countries in 'Country' column\n",
    "#energy.replace({'Country' : {\"Republic of Korea\": \"South Korea\" ,\n",
    "#                            \"United States of America\": \"United States\",\n",
    "#                            \"United Kingdom of Great Britain and Northern Ireland\": \"United Kingdom\",\n",
    "#                            \"China, Hong Kong Special Administrative Region\": \"Hong Kong\"}} , inplace = True)"
   ]
  },
  {
   "cell_type": "code",
   "execution_count": 9,
   "id": "computational-transmission",
   "metadata": {
    "ExecuteTime": {
     "end_time": "2023-03-11T09:59:33.720920Z",
     "start_time": "2023-03-11T09:59:33.592164Z"
    }
   },
   "outputs": [],
   "source": [
    "### replacing the list of countries in 'Country' column\n",
    "def rename_countries(energy):\n",
    "    for i in energy['Country']:\n",
    "        if i == 'Republic of Korea':\n",
    "             energy['Country'] = energy['Country'].replace(i,'South Korea')\n",
    "        elif i == 'United States of America' :\n",
    "             energy['Country'] = energy['Country'].replace(i,'United States')\n",
    "        elif i == 'United Kingdom of Great Britain and Northern Ireland':\n",
    "             energy['Country'] = energy['Country'].replace(i,'United Kingdom')\n",
    "        elif i == 'China, Hong Kong Special Administrative Region':\n",
    "             energy['Country'] = energy['Country'].replace(i,'Hong Kong')\n",
    "        else:\n",
    "             energy['Country'] = energy['Country'].replace(i,i)"
   ]
  },
  {
   "cell_type": "code",
   "execution_count": 10,
   "id": "encouraging-mounting",
   "metadata": {
    "ExecuteTime": {
     "end_time": "2023-03-11T09:59:33.983217Z",
     "start_time": "2023-03-11T09:59:33.724023Z"
    }
   },
   "outputs": [],
   "source": [
    "## apply function\n",
    "rename_countries(energy)"
   ]
  },
  {
   "cell_type": "code",
   "execution_count": 11,
   "id": "modular-explorer",
   "metadata": {
    "ExecuteTime": {
     "end_time": "2023-03-11T09:59:34.017544Z",
     "start_time": "2023-03-11T09:59:33.986829Z"
    }
   },
   "outputs": [
    {
     "data": {
      "text/html": [
       "<div>\n",
       "<style scoped>\n",
       "    .dataframe tbody tr th:only-of-type {\n",
       "        vertical-align: middle;\n",
       "    }\n",
       "\n",
       "    .dataframe tbody tr th {\n",
       "        vertical-align: top;\n",
       "    }\n",
       "\n",
       "    .dataframe thead th {\n",
       "        text-align: right;\n",
       "    }\n",
       "</style>\n",
       "<table border=\"1\" class=\"dataframe\">\n",
       "  <thead>\n",
       "    <tr style=\"text-align: right;\">\n",
       "      <th></th>\n",
       "      <th>Country</th>\n",
       "      <th>Energy Supply</th>\n",
       "      <th>Energy Supply per Capita</th>\n",
       "      <th>% Renewable</th>\n",
       "    </tr>\n",
       "  </thead>\n",
       "  <tbody>\n",
       "    <tr>\n",
       "      <th>164</th>\n",
       "      <td>South Korea</td>\n",
       "      <td>1.100700e+10</td>\n",
       "      <td>221.0</td>\n",
       "      <td>2.279353</td>\n",
       "    </tr>\n",
       "  </tbody>\n",
       "</table>\n",
       "</div>"
      ],
      "text/plain": [
       "         Country  Energy Supply  Energy Supply per Capita  % Renewable\n",
       "164  South Korea   1.100700e+10                     221.0     2.279353"
      ]
     },
     "execution_count": 11,
     "metadata": {},
     "output_type": "execute_result"
    }
   ],
   "source": [
    "## ex:-\n",
    "energy[energy['Country'] == 'South Korea'] "
   ]
  },
  {
   "cell_type": "code",
   "execution_count": 12,
   "id": "optical-leisure",
   "metadata": {
    "ExecuteTime": {
     "end_time": "2023-03-11T09:59:34.149709Z",
     "start_time": "2023-03-11T09:59:34.022656Z"
    }
   },
   "outputs": [
    {
     "data": {
      "text/html": [
       "<div>\n",
       "<style scoped>\n",
       "    .dataframe tbody tr th:only-of-type {\n",
       "        vertical-align: middle;\n",
       "    }\n",
       "\n",
       "    .dataframe tbody tr th {\n",
       "        vertical-align: top;\n",
       "    }\n",
       "\n",
       "    .dataframe thead th {\n",
       "        text-align: right;\n",
       "    }\n",
       "</style>\n",
       "<table border=\"1\" class=\"dataframe\">\n",
       "  <thead>\n",
       "    <tr style=\"text-align: right;\">\n",
       "      <th></th>\n",
       "      <th>Country</th>\n",
       "      <th>Energy Supply</th>\n",
       "      <th>Energy Supply per Capita</th>\n",
       "      <th>% Renewable</th>\n",
       "    </tr>\n",
       "  </thead>\n",
       "  <tbody>\n",
       "    <tr>\n",
       "      <th>61</th>\n",
       "      <td>Dominican Republic</td>\n",
       "      <td>3.390000e+08</td>\n",
       "      <td>33.0</td>\n",
       "      <td>11.250600</td>\n",
       "    </tr>\n",
       "    <tr>\n",
       "      <th>212</th>\n",
       "      <td>Ukraine18</td>\n",
       "      <td>4.844000e+09</td>\n",
       "      <td>107.0</td>\n",
       "      <td>8.067312</td>\n",
       "    </tr>\n",
       "    <tr>\n",
       "      <th>176</th>\n",
       "      <td>Sao Tome and Principe</td>\n",
       "      <td>3.000000e+06</td>\n",
       "      <td>14.0</td>\n",
       "      <td>10.447760</td>\n",
       "    </tr>\n",
       "    <tr>\n",
       "      <th>115</th>\n",
       "      <td>Lebanon</td>\n",
       "      <td>2.890000e+08</td>\n",
       "      <td>55.0</td>\n",
       "      <td>6.610478</td>\n",
       "    </tr>\n",
       "    <tr>\n",
       "      <th>29</th>\n",
       "      <td>British Virgin Islands</td>\n",
       "      <td>2.000000e+06</td>\n",
       "      <td>85.0</td>\n",
       "      <td>0.000000</td>\n",
       "    </tr>\n",
       "    <tr>\n",
       "      <th>213</th>\n",
       "      <td>United Arab Emirates</td>\n",
       "      <td>2.710000e+09</td>\n",
       "      <td>300.0</td>\n",
       "      <td>0.000000</td>\n",
       "    </tr>\n",
       "    <tr>\n",
       "      <th>87</th>\n",
       "      <td>Guatemala</td>\n",
       "      <td>4.520000e+08</td>\n",
       "      <td>29.0</td>\n",
       "      <td>49.521680</td>\n",
       "    </tr>\n",
       "    <tr>\n",
       "      <th>185</th>\n",
       "      <td>Slovenia</td>\n",
       "      <td>2.870000e+08</td>\n",
       "      <td>139.0</td>\n",
       "      <td>31.864240</td>\n",
       "    </tr>\n",
       "    <tr>\n",
       "      <th>147</th>\n",
       "      <td>Niger</td>\n",
       "      <td>8.700000e+07</td>\n",
       "      <td>5.0</td>\n",
       "      <td>0.000000</td>\n",
       "    </tr>\n",
       "    <tr>\n",
       "      <th>82</th>\n",
       "      <td>Greece</td>\n",
       "      <td>9.930000e+08</td>\n",
       "      <td>90.0</td>\n",
       "      <td>24.795280</td>\n",
       "    </tr>\n",
       "  </tbody>\n",
       "</table>\n",
       "</div>"
      ],
      "text/plain": [
       "                    Country  Energy Supply  Energy Supply per Capita  \\\n",
       "61       Dominican Republic   3.390000e+08                      33.0   \n",
       "212               Ukraine18   4.844000e+09                     107.0   \n",
       "176   Sao Tome and Principe   3.000000e+06                      14.0   \n",
       "115                 Lebanon   2.890000e+08                      55.0   \n",
       "29   British Virgin Islands   2.000000e+06                      85.0   \n",
       "213    United Arab Emirates   2.710000e+09                     300.0   \n",
       "87                Guatemala   4.520000e+08                      29.0   \n",
       "185                Slovenia   2.870000e+08                     139.0   \n",
       "147                   Niger   8.700000e+07                       5.0   \n",
       "82                   Greece   9.930000e+08                      90.0   \n",
       "\n",
       "     % Renewable  \n",
       "61     11.250600  \n",
       "212     8.067312  \n",
       "176    10.447760  \n",
       "115     6.610478  \n",
       "29      0.000000  \n",
       "213     0.000000  \n",
       "87     49.521680  \n",
       "185    31.864240  \n",
       "147     0.000000  \n",
       "82     24.795280  "
      ]
     },
     "execution_count": 12,
     "metadata": {},
     "output_type": "execute_result"
    }
   ],
   "source": [
    "energy.sample(10)"
   ]
  },
  {
   "cell_type": "code",
   "execution_count": 13,
   "id": "criminal-fusion",
   "metadata": {
    "ExecuteTime": {
     "end_time": "2023-03-11T09:59:34.258293Z",
     "start_time": "2023-03-11T09:59:34.154527Z"
    }
   },
   "outputs": [
    {
     "name": "stderr",
     "output_type": "stream",
     "text": [
      "<ipython-input-13-72b22e9039f4>:1: FutureWarning: The default value of regex will change from True to False in a future version.\n",
      "  energy['Country'] = energy['Country'].str.replace('\\d+' , '')\n"
     ]
    }
   ],
   "source": [
    "energy['Country'] = energy['Country'].str.replace('\\d+' , '')"
   ]
  },
  {
   "cell_type": "code",
   "execution_count": 14,
   "id": "minute-disposal",
   "metadata": {
    "ExecuteTime": {
     "end_time": "2023-03-11T09:59:34.395698Z",
     "start_time": "2023-03-11T09:59:34.263741Z"
    }
   },
   "outputs": [
    {
     "data": {
      "text/html": [
       "<div>\n",
       "<style scoped>\n",
       "    .dataframe tbody tr th:only-of-type {\n",
       "        vertical-align: middle;\n",
       "    }\n",
       "\n",
       "    .dataframe tbody tr th {\n",
       "        vertical-align: top;\n",
       "    }\n",
       "\n",
       "    .dataframe thead th {\n",
       "        text-align: right;\n",
       "    }\n",
       "</style>\n",
       "<table border=\"1\" class=\"dataframe\">\n",
       "  <thead>\n",
       "    <tr style=\"text-align: right;\">\n",
       "      <th></th>\n",
       "      <th>Country</th>\n",
       "      <th>Energy Supply</th>\n",
       "      <th>Energy Supply per Capita</th>\n",
       "      <th>% Renewable</th>\n",
       "    </tr>\n",
       "  </thead>\n",
       "  <tbody>\n",
       "    <tr>\n",
       "      <th>197</th>\n",
       "      <td>Switzerland</td>\n",
       "      <td>1.113000e+09</td>\n",
       "      <td>136.0</td>\n",
       "      <td>57.74548</td>\n",
       "    </tr>\n",
       "  </tbody>\n",
       "</table>\n",
       "</div>"
      ],
      "text/plain": [
       "         Country  Energy Supply  Energy Supply per Capita  % Renewable\n",
       "197  Switzerland   1.113000e+09                     136.0     57.74548"
      ]
     },
     "execution_count": 14,
     "metadata": {},
     "output_type": "execute_result"
    }
   ],
   "source": [
    "energy[energy['Country'] == 'Switzerland'] "
   ]
  },
  {
   "cell_type": "markdown",
   "id": "exact-thing",
   "metadata": {},
   "source": [
    "## step 1\n",
    "\n",
    "    loading the second dataset of GDP data, which containing countries' GDP from 1960 to 2015 from World Bank."
   ]
  },
  {
   "cell_type": "code",
   "execution_count": 15,
   "id": "pacific-haiti",
   "metadata": {
    "ExecuteTime": {
     "end_time": "2023-03-11T09:59:34.765627Z",
     "start_time": "2023-03-11T09:59:34.399347Z"
    }
   },
   "outputs": [],
   "source": [
    "GDP = pd.read_csv('world_bank.csv' , header = 4)"
   ]
  },
  {
   "cell_type": "code",
   "execution_count": 16,
   "id": "expanded-cosmetic",
   "metadata": {
    "ExecuteTime": {
     "end_time": "2023-03-11T09:59:34.776441Z",
     "start_time": "2023-03-11T09:59:34.769177Z"
    }
   },
   "outputs": [
    {
     "data": {
      "text/plain": [
       "(264, 60)"
      ]
     },
     "execution_count": 16,
     "metadata": {},
     "output_type": "execute_result"
    }
   ],
   "source": [
    "GDP.shape"
   ]
  },
  {
   "cell_type": "code",
   "execution_count": 17,
   "id": "solar-tragedy",
   "metadata": {
    "ExecuteTime": {
     "end_time": "2023-03-11T09:59:34.941588Z",
     "start_time": "2023-03-11T09:59:34.780738Z"
    }
   },
   "outputs": [
    {
     "data": {
      "text/html": [
       "<div>\n",
       "<style scoped>\n",
       "    .dataframe tbody tr th:only-of-type {\n",
       "        vertical-align: middle;\n",
       "    }\n",
       "\n",
       "    .dataframe tbody tr th {\n",
       "        vertical-align: top;\n",
       "    }\n",
       "\n",
       "    .dataframe thead th {\n",
       "        text-align: right;\n",
       "    }\n",
       "</style>\n",
       "<table border=\"1\" class=\"dataframe\">\n",
       "  <thead>\n",
       "    <tr style=\"text-align: right;\">\n",
       "      <th></th>\n",
       "      <th>Country Name</th>\n",
       "      <th>Country Code</th>\n",
       "      <th>Indicator Name</th>\n",
       "      <th>Indicator Code</th>\n",
       "      <th>1960</th>\n",
       "      <th>1961</th>\n",
       "      <th>1962</th>\n",
       "      <th>1963</th>\n",
       "      <th>1964</th>\n",
       "      <th>1965</th>\n",
       "      <th>...</th>\n",
       "      <th>2006</th>\n",
       "      <th>2007</th>\n",
       "      <th>2008</th>\n",
       "      <th>2009</th>\n",
       "      <th>2010</th>\n",
       "      <th>2011</th>\n",
       "      <th>2012</th>\n",
       "      <th>2013</th>\n",
       "      <th>2014</th>\n",
       "      <th>2015</th>\n",
       "    </tr>\n",
       "  </thead>\n",
       "  <tbody>\n",
       "    <tr>\n",
       "      <th>10</th>\n",
       "      <td>Antigua and Barbuda</td>\n",
       "      <td>ATG</td>\n",
       "      <td>GDP at market prices (constant 2010 US$)</td>\n",
       "      <td>NY.GDP.MKTP.KD</td>\n",
       "      <td>NaN</td>\n",
       "      <td>NaN</td>\n",
       "      <td>NaN</td>\n",
       "      <td>NaN</td>\n",
       "      <td>NaN</td>\n",
       "      <td>NaN</td>\n",
       "      <td>...</td>\n",
       "      <td>1.268714e+09</td>\n",
       "      <td>1.389229e+09</td>\n",
       "      <td>1.390217e+09</td>\n",
       "      <td>1.222890e+09</td>\n",
       "      <td>1.135539e+09</td>\n",
       "      <td>1.115174e+09</td>\n",
       "      <td>1.159999e+09</td>\n",
       "      <td>1.155982e+09</td>\n",
       "      <td>1.211723e+09</td>\n",
       "      <td>1.256122e+09</td>\n",
       "    </tr>\n",
       "    <tr>\n",
       "      <th>167</th>\n",
       "      <td>Malaysia</td>\n",
       "      <td>MYS</td>\n",
       "      <td>GDP at market prices (constant 2010 US$)</td>\n",
       "      <td>NY.GDP.MKTP.KD</td>\n",
       "      <td>1.149047e+10</td>\n",
       "      <td>1.236352e+10</td>\n",
       "      <td>1.315739e+10</td>\n",
       "      <td>1.412298e+10</td>\n",
       "      <td>1.487983e+10</td>\n",
       "      <td>1.602332e+10</td>\n",
       "      <td>...</td>\n",
       "      <td>2.163030e+11</td>\n",
       "      <td>2.299275e+11</td>\n",
       "      <td>2.410371e+11</td>\n",
       "      <td>2.373885e+11</td>\n",
       "      <td>2.550169e+11</td>\n",
       "      <td>2.685170e+11</td>\n",
       "      <td>2.832141e+11</td>\n",
       "      <td>2.965633e+11</td>\n",
       "      <td>3.143352e+11</td>\n",
       "      <td>3.299022e+11</td>\n",
       "    </tr>\n",
       "    <tr>\n",
       "      <th>26</th>\n",
       "      <td>Bolivia</td>\n",
       "      <td>BOL</td>\n",
       "      <td>GDP at market prices (constant 2010 US$)</td>\n",
       "      <td>NY.GDP.MKTP.KD</td>\n",
       "      <td>4.818838e+09</td>\n",
       "      <td>4.919069e+09</td>\n",
       "      <td>5.193073e+09</td>\n",
       "      <td>5.526504e+09</td>\n",
       "      <td>5.791476e+09</td>\n",
       "      <td>6.117247e+09</td>\n",
       "      <td>...</td>\n",
       "      <td>1.644957e+10</td>\n",
       "      <td>1.720040e+10</td>\n",
       "      <td>1.825796e+10</td>\n",
       "      <td>1.887088e+10</td>\n",
       "      <td>1.964963e+10</td>\n",
       "      <td>2.067222e+10</td>\n",
       "      <td>2.173110e+10</td>\n",
       "      <td>2.320795e+10</td>\n",
       "      <td>2.447524e+10</td>\n",
       "      <td>2.544488e+10</td>\n",
       "    </tr>\n",
       "    <tr>\n",
       "      <th>153</th>\n",
       "      <td>Marshall Islands</td>\n",
       "      <td>MHL</td>\n",
       "      <td>GDP at market prices (constant 2010 US$)</td>\n",
       "      <td>NY.GDP.MKTP.KD</td>\n",
       "      <td>NaN</td>\n",
       "      <td>NaN</td>\n",
       "      <td>NaN</td>\n",
       "      <td>NaN</td>\n",
       "      <td>NaN</td>\n",
       "      <td>NaN</td>\n",
       "      <td>...</td>\n",
       "      <td>1.583316e+08</td>\n",
       "      <td>1.642478e+08</td>\n",
       "      <td>1.611440e+08</td>\n",
       "      <td>1.573378e+08</td>\n",
       "      <td>1.638031e+08</td>\n",
       "      <td>1.640533e+08</td>\n",
       "      <td>1.686701e+08</td>\n",
       "      <td>1.726204e+08</td>\n",
       "      <td>1.709438e+08</td>\n",
       "      <td>NaN</td>\n",
       "    </tr>\n",
       "    <tr>\n",
       "      <th>204</th>\n",
       "      <td>Senegal</td>\n",
       "      <td>SEN</td>\n",
       "      <td>GDP at market prices (constant 2010 US$)</td>\n",
       "      <td>NY.GDP.MKTP.KD</td>\n",
       "      <td>3.459917e+09</td>\n",
       "      <td>3.563488e+09</td>\n",
       "      <td>3.558633e+09</td>\n",
       "      <td>3.624983e+09</td>\n",
       "      <td>3.765775e+09</td>\n",
       "      <td>3.815942e+09</td>\n",
       "      <td>...</td>\n",
       "      <td>1.113935e+10</td>\n",
       "      <td>1.168946e+10</td>\n",
       "      <td>1.211993e+10</td>\n",
       "      <td>1.241362e+10</td>\n",
       "      <td>1.293243e+10</td>\n",
       "      <td>1.316018e+10</td>\n",
       "      <td>1.374070e+10</td>\n",
       "      <td>1.421960e+10</td>\n",
       "      <td>1.483261e+10</td>\n",
       "      <td>1.579453e+10</td>\n",
       "    </tr>\n",
       "  </tbody>\n",
       "</table>\n",
       "<p>5 rows × 60 columns</p>\n",
       "</div>"
      ],
      "text/plain": [
       "            Country Name Country Code  \\\n",
       "10   Antigua and Barbuda          ATG   \n",
       "167             Malaysia          MYS   \n",
       "26               Bolivia          BOL   \n",
       "153     Marshall Islands          MHL   \n",
       "204              Senegal          SEN   \n",
       "\n",
       "                               Indicator Name  Indicator Code          1960  \\\n",
       "10   GDP at market prices (constant 2010 US$)  NY.GDP.MKTP.KD           NaN   \n",
       "167  GDP at market prices (constant 2010 US$)  NY.GDP.MKTP.KD  1.149047e+10   \n",
       "26   GDP at market prices (constant 2010 US$)  NY.GDP.MKTP.KD  4.818838e+09   \n",
       "153  GDP at market prices (constant 2010 US$)  NY.GDP.MKTP.KD           NaN   \n",
       "204  GDP at market prices (constant 2010 US$)  NY.GDP.MKTP.KD  3.459917e+09   \n",
       "\n",
       "             1961          1962          1963          1964          1965  \\\n",
       "10            NaN           NaN           NaN           NaN           NaN   \n",
       "167  1.236352e+10  1.315739e+10  1.412298e+10  1.487983e+10  1.602332e+10   \n",
       "26   4.919069e+09  5.193073e+09  5.526504e+09  5.791476e+09  6.117247e+09   \n",
       "153           NaN           NaN           NaN           NaN           NaN   \n",
       "204  3.563488e+09  3.558633e+09  3.624983e+09  3.765775e+09  3.815942e+09   \n",
       "\n",
       "     ...          2006          2007          2008          2009  \\\n",
       "10   ...  1.268714e+09  1.389229e+09  1.390217e+09  1.222890e+09   \n",
       "167  ...  2.163030e+11  2.299275e+11  2.410371e+11  2.373885e+11   \n",
       "26   ...  1.644957e+10  1.720040e+10  1.825796e+10  1.887088e+10   \n",
       "153  ...  1.583316e+08  1.642478e+08  1.611440e+08  1.573378e+08   \n",
       "204  ...  1.113935e+10  1.168946e+10  1.211993e+10  1.241362e+10   \n",
       "\n",
       "             2010          2011          2012          2013          2014  \\\n",
       "10   1.135539e+09  1.115174e+09  1.159999e+09  1.155982e+09  1.211723e+09   \n",
       "167  2.550169e+11  2.685170e+11  2.832141e+11  2.965633e+11  3.143352e+11   \n",
       "26   1.964963e+10  2.067222e+10  2.173110e+10  2.320795e+10  2.447524e+10   \n",
       "153  1.638031e+08  1.640533e+08  1.686701e+08  1.726204e+08  1.709438e+08   \n",
       "204  1.293243e+10  1.316018e+10  1.374070e+10  1.421960e+10  1.483261e+10   \n",
       "\n",
       "             2015  \n",
       "10   1.256122e+09  \n",
       "167  3.299022e+11  \n",
       "26   2.544488e+10  \n",
       "153           NaN  \n",
       "204  1.579453e+10  \n",
       "\n",
       "[5 rows x 60 columns]"
      ]
     },
     "execution_count": 17,
     "metadata": {},
     "output_type": "execute_result"
    }
   ],
   "source": [
    "GDP.sample(5)"
   ]
  },
  {
   "cell_type": "code",
   "execution_count": 18,
   "id": "exciting-render",
   "metadata": {
    "ExecuteTime": {
     "end_time": "2023-03-11T09:59:35.067090Z",
     "start_time": "2023-03-11T09:59:34.946675Z"
    }
   },
   "outputs": [],
   "source": [
    "## rename country name\n",
    "GDP.replace({'Country Name' : {\"Korea, Rep.\": \"South Korea\" ,\n",
    "                            \"Iran, Islamic Rep.\": \"Iran\",\n",
    "                            \"Hong Kong SAR, China\": \"Hong Kong\"}} , inplace = True)"
   ]
  },
  {
   "cell_type": "code",
   "execution_count": 19,
   "id": "cleared-modern",
   "metadata": {
    "ExecuteTime": {
     "end_time": "2023-03-11T09:59:35.212541Z",
     "start_time": "2023-03-11T09:59:35.070634Z"
    }
   },
   "outputs": [
    {
     "data": {
      "text/html": [
       "<div>\n",
       "<style scoped>\n",
       "    .dataframe tbody tr th:only-of-type {\n",
       "        vertical-align: middle;\n",
       "    }\n",
       "\n",
       "    .dataframe tbody tr th {\n",
       "        vertical-align: top;\n",
       "    }\n",
       "\n",
       "    .dataframe thead th {\n",
       "        text-align: right;\n",
       "    }\n",
       "</style>\n",
       "<table border=\"1\" class=\"dataframe\">\n",
       "  <thead>\n",
       "    <tr style=\"text-align: right;\">\n",
       "      <th></th>\n",
       "      <th>Country Name</th>\n",
       "      <th>Country Code</th>\n",
       "      <th>Indicator Name</th>\n",
       "      <th>Indicator Code</th>\n",
       "      <th>1960</th>\n",
       "      <th>1961</th>\n",
       "      <th>1962</th>\n",
       "      <th>1963</th>\n",
       "      <th>1964</th>\n",
       "      <th>1965</th>\n",
       "      <th>...</th>\n",
       "      <th>2006</th>\n",
       "      <th>2007</th>\n",
       "      <th>2008</th>\n",
       "      <th>2009</th>\n",
       "      <th>2010</th>\n",
       "      <th>2011</th>\n",
       "      <th>2012</th>\n",
       "      <th>2013</th>\n",
       "      <th>2014</th>\n",
       "      <th>2015</th>\n",
       "    </tr>\n",
       "  </thead>\n",
       "  <tbody>\n",
       "    <tr>\n",
       "      <th>109</th>\n",
       "      <td>Iran</td>\n",
       "      <td>IRN</td>\n",
       "      <td>GDP at market prices (constant 2010 US$)</td>\n",
       "      <td>NY.GDP.MKTP.KD</td>\n",
       "      <td>5.500820e+10</td>\n",
       "      <td>6.072406e+10</td>\n",
       "      <td>6.552689e+10</td>\n",
       "      <td>7.014134e+10</td>\n",
       "      <td>7.608598e+10</td>\n",
       "      <td>8.904776e+10</td>\n",
       "      <td>...</td>\n",
       "      <td>3.895523e+11</td>\n",
       "      <td>4.250646e+11</td>\n",
       "      <td>4.289909e+11</td>\n",
       "      <td>4.389208e+11</td>\n",
       "      <td>4.677902e+11</td>\n",
       "      <td>4.853309e+11</td>\n",
       "      <td>4.532569e+11</td>\n",
       "      <td>4.445926e+11</td>\n",
       "      <td>4.639027e+11</td>\n",
       "      <td>NaN</td>\n",
       "    </tr>\n",
       "  </tbody>\n",
       "</table>\n",
       "<p>1 rows × 60 columns</p>\n",
       "</div>"
      ],
      "text/plain": [
       "    Country Name Country Code                            Indicator Name  \\\n",
       "109         Iran          IRN  GDP at market prices (constant 2010 US$)   \n",
       "\n",
       "     Indicator Code          1960          1961          1962          1963  \\\n",
       "109  NY.GDP.MKTP.KD  5.500820e+10  6.072406e+10  6.552689e+10  7.014134e+10   \n",
       "\n",
       "             1964          1965  ...          2006          2007  \\\n",
       "109  7.608598e+10  8.904776e+10  ...  3.895523e+11  4.250646e+11   \n",
       "\n",
       "             2008          2009          2010          2011          2012  \\\n",
       "109  4.289909e+11  4.389208e+11  4.677902e+11  4.853309e+11  4.532569e+11   \n",
       "\n",
       "             2013          2014  2015  \n",
       "109  4.445926e+11  4.639027e+11   NaN  \n",
       "\n",
       "[1 rows x 60 columns]"
      ]
     },
     "execution_count": 19,
     "metadata": {},
     "output_type": "execute_result"
    }
   ],
   "source": [
    "## Ex:-\n",
    "GDP[GDP['Country Name'] == 'Iran']"
   ]
  },
  {
   "cell_type": "markdown",
   "id": "broken-shepherd",
   "metadata": {},
   "source": [
    "## Step 2 \n",
    "\n",
    "    load the third and the last Sciamgo Journal and Country Rank data for Energy Engineering and Power Technology dataset,            which ranks countries based on their journal contributions in the aforementioned area."
   ]
  },
  {
   "cell_type": "code",
   "execution_count": 20,
   "id": "therapeutic-affiliate",
   "metadata": {
    "ExecuteTime": {
     "end_time": "2023-03-11T09:59:36.433300Z",
     "start_time": "2023-03-11T09:59:35.216447Z"
    }
   },
   "outputs": [],
   "source": [
    "ScimEn = pd.read_excel('scimagojr-3.xlsx')"
   ]
  },
  {
   "cell_type": "code",
   "execution_count": 21,
   "id": "anonymous-drive",
   "metadata": {
    "ExecuteTime": {
     "end_time": "2023-03-11T09:59:36.465121Z",
     "start_time": "2023-03-11T09:59:36.436244Z"
    }
   },
   "outputs": [
    {
     "data": {
      "text/html": [
       "<div>\n",
       "<style scoped>\n",
       "    .dataframe tbody tr th:only-of-type {\n",
       "        vertical-align: middle;\n",
       "    }\n",
       "\n",
       "    .dataframe tbody tr th {\n",
       "        vertical-align: top;\n",
       "    }\n",
       "\n",
       "    .dataframe thead th {\n",
       "        text-align: right;\n",
       "    }\n",
       "</style>\n",
       "<table border=\"1\" class=\"dataframe\">\n",
       "  <thead>\n",
       "    <tr style=\"text-align: right;\">\n",
       "      <th></th>\n",
       "      <th>Rank</th>\n",
       "      <th>Country</th>\n",
       "      <th>Documents</th>\n",
       "      <th>Citable documents</th>\n",
       "      <th>Citations</th>\n",
       "      <th>Self-citations</th>\n",
       "      <th>Citations per document</th>\n",
       "      <th>H index</th>\n",
       "    </tr>\n",
       "  </thead>\n",
       "  <tbody>\n",
       "    <tr>\n",
       "      <th>162</th>\n",
       "      <td>163</td>\n",
       "      <td>Afghanistan</td>\n",
       "      <td>3</td>\n",
       "      <td>3</td>\n",
       "      <td>0</td>\n",
       "      <td>0</td>\n",
       "      <td>0.00</td>\n",
       "      <td>0</td>\n",
       "    </tr>\n",
       "    <tr>\n",
       "      <th>58</th>\n",
       "      <td>59</td>\n",
       "      <td>Bulgaria</td>\n",
       "      <td>545</td>\n",
       "      <td>540</td>\n",
       "      <td>6095</td>\n",
       "      <td>989</td>\n",
       "      <td>11.18</td>\n",
       "      <td>38</td>\n",
       "    </tr>\n",
       "    <tr>\n",
       "      <th>173</th>\n",
       "      <td>174</td>\n",
       "      <td>Bermuda</td>\n",
       "      <td>2</td>\n",
       "      <td>2</td>\n",
       "      <td>12</td>\n",
       "      <td>0</td>\n",
       "      <td>6.00</td>\n",
       "      <td>1</td>\n",
       "    </tr>\n",
       "    <tr>\n",
       "      <th>11</th>\n",
       "      <td>12</td>\n",
       "      <td>Spain</td>\n",
       "      <td>9428</td>\n",
       "      <td>9330</td>\n",
       "      <td>123336</td>\n",
       "      <td>23964</td>\n",
       "      <td>13.08</td>\n",
       "      <td>115</td>\n",
       "    </tr>\n",
       "    <tr>\n",
       "      <th>164</th>\n",
       "      <td>165</td>\n",
       "      <td>French Guiana</td>\n",
       "      <td>3</td>\n",
       "      <td>3</td>\n",
       "      <td>1</td>\n",
       "      <td>1</td>\n",
       "      <td>0.33</td>\n",
       "      <td>1</td>\n",
       "    </tr>\n",
       "  </tbody>\n",
       "</table>\n",
       "</div>"
      ],
      "text/plain": [
       "     Rank        Country  Documents  Citable documents  Citations  \\\n",
       "162   163    Afghanistan          3                  3          0   \n",
       "58     59       Bulgaria        545                540       6095   \n",
       "173   174        Bermuda          2                  2         12   \n",
       "11     12          Spain       9428               9330     123336   \n",
       "164   165  French Guiana          3                  3          1   \n",
       "\n",
       "     Self-citations  Citations per document  H index  \n",
       "162               0                    0.00        0  \n",
       "58              989                   11.18       38  \n",
       "173               0                    6.00        1  \n",
       "11            23964                   13.08      115  \n",
       "164               1                    0.33        1  "
      ]
     },
     "execution_count": 21,
     "metadata": {},
     "output_type": "execute_result"
    }
   ],
   "source": [
    "ScimEn.sample(5)"
   ]
  },
  {
   "cell_type": "markdown",
   "id": "vocal-reunion",
   "metadata": {},
   "source": [
    "## Step 3\n",
    "    Merge the 3 datasets into a new dataset"
   ]
  },
  {
   "cell_type": "code",
   "execution_count": 22,
   "id": "previous-teaching",
   "metadata": {
    "ExecuteTime": {
     "end_time": "2023-03-11T09:59:36.619743Z",
     "start_time": "2023-03-11T09:59:36.470706Z"
    }
   },
   "outputs": [
    {
     "data": {
      "text/html": [
       "<div>\n",
       "<style scoped>\n",
       "    .dataframe tbody tr th:only-of-type {\n",
       "        vertical-align: middle;\n",
       "    }\n",
       "\n",
       "    .dataframe tbody tr th {\n",
       "        vertical-align: top;\n",
       "    }\n",
       "\n",
       "    .dataframe thead th {\n",
       "        text-align: right;\n",
       "    }\n",
       "</style>\n",
       "<table border=\"1\" class=\"dataframe\">\n",
       "  <thead>\n",
       "    <tr style=\"text-align: right;\">\n",
       "      <th></th>\n",
       "      <th>Country</th>\n",
       "      <th>Country Code</th>\n",
       "      <th>Indicator Name</th>\n",
       "      <th>Indicator Code</th>\n",
       "      <th>1960</th>\n",
       "      <th>1961</th>\n",
       "      <th>1962</th>\n",
       "      <th>1963</th>\n",
       "      <th>1964</th>\n",
       "      <th>1965</th>\n",
       "      <th>...</th>\n",
       "      <th>2006</th>\n",
       "      <th>2007</th>\n",
       "      <th>2008</th>\n",
       "      <th>2009</th>\n",
       "      <th>2010</th>\n",
       "      <th>2011</th>\n",
       "      <th>2012</th>\n",
       "      <th>2013</th>\n",
       "      <th>2014</th>\n",
       "      <th>2015</th>\n",
       "    </tr>\n",
       "  </thead>\n",
       "  <tbody>\n",
       "    <tr>\n",
       "      <th>0</th>\n",
       "      <td>Aruba</td>\n",
       "      <td>ABW</td>\n",
       "      <td>GDP at market prices (constant 2010 US$)</td>\n",
       "      <td>NY.GDP.MKTP.KD</td>\n",
       "      <td>NaN</td>\n",
       "      <td>NaN</td>\n",
       "      <td>NaN</td>\n",
       "      <td>NaN</td>\n",
       "      <td>NaN</td>\n",
       "      <td>NaN</td>\n",
       "      <td>...</td>\n",
       "      <td>NaN</td>\n",
       "      <td>NaN</td>\n",
       "      <td>NaN</td>\n",
       "      <td>NaN</td>\n",
       "      <td>2.467704e+09</td>\n",
       "      <td>NaN</td>\n",
       "      <td>NaN</td>\n",
       "      <td>NaN</td>\n",
       "      <td>NaN</td>\n",
       "      <td>NaN</td>\n",
       "    </tr>\n",
       "    <tr>\n",
       "      <th>1</th>\n",
       "      <td>Andorra</td>\n",
       "      <td>AND</td>\n",
       "      <td>GDP at market prices (constant 2010 US$)</td>\n",
       "      <td>NY.GDP.MKTP.KD</td>\n",
       "      <td>NaN</td>\n",
       "      <td>NaN</td>\n",
       "      <td>NaN</td>\n",
       "      <td>NaN</td>\n",
       "      <td>NaN</td>\n",
       "      <td>NaN</td>\n",
       "      <td>...</td>\n",
       "      <td>4.018196e+09</td>\n",
       "      <td>4.021331e+09</td>\n",
       "      <td>3.675728e+09</td>\n",
       "      <td>3.535389e+09</td>\n",
       "      <td>3.346317e+09</td>\n",
       "      <td>3.185605e+09</td>\n",
       "      <td>3.129538e+09</td>\n",
       "      <td>3.127550e+09</td>\n",
       "      <td>NaN</td>\n",
       "      <td>NaN</td>\n",
       "    </tr>\n",
       "    <tr>\n",
       "      <th>2</th>\n",
       "      <td>Afghanistan</td>\n",
       "      <td>AFG</td>\n",
       "      <td>GDP at market prices (constant 2010 US$)</td>\n",
       "      <td>NY.GDP.MKTP.KD</td>\n",
       "      <td>NaN</td>\n",
       "      <td>NaN</td>\n",
       "      <td>NaN</td>\n",
       "      <td>NaN</td>\n",
       "      <td>NaN</td>\n",
       "      <td>NaN</td>\n",
       "      <td>...</td>\n",
       "      <td>1.030523e+10</td>\n",
       "      <td>1.172119e+10</td>\n",
       "      <td>1.214448e+10</td>\n",
       "      <td>1.469733e+10</td>\n",
       "      <td>1.593680e+10</td>\n",
       "      <td>1.691113e+10</td>\n",
       "      <td>1.935220e+10</td>\n",
       "      <td>1.973134e+10</td>\n",
       "      <td>1.999032e+10</td>\n",
       "      <td>2.029415e+10</td>\n",
       "    </tr>\n",
       "    <tr>\n",
       "      <th>3</th>\n",
       "      <td>Angola</td>\n",
       "      <td>AGO</td>\n",
       "      <td>GDP at market prices (constant 2010 US$)</td>\n",
       "      <td>NY.GDP.MKTP.KD</td>\n",
       "      <td>NaN</td>\n",
       "      <td>NaN</td>\n",
       "      <td>NaN</td>\n",
       "      <td>NaN</td>\n",
       "      <td>NaN</td>\n",
       "      <td>NaN</td>\n",
       "      <td>...</td>\n",
       "      <td>5.581103e+10</td>\n",
       "      <td>6.842044e+10</td>\n",
       "      <td>7.787420e+10</td>\n",
       "      <td>7.975320e+10</td>\n",
       "      <td>8.247091e+10</td>\n",
       "      <td>8.570262e+10</td>\n",
       "      <td>9.012096e+10</td>\n",
       "      <td>9.626143e+10</td>\n",
       "      <td>1.008863e+11</td>\n",
       "      <td>1.039106e+11</td>\n",
       "    </tr>\n",
       "    <tr>\n",
       "      <th>4</th>\n",
       "      <td>Albania</td>\n",
       "      <td>ALB</td>\n",
       "      <td>GDP at market prices (constant 2010 US$)</td>\n",
       "      <td>NY.GDP.MKTP.KD</td>\n",
       "      <td>NaN</td>\n",
       "      <td>NaN</td>\n",
       "      <td>NaN</td>\n",
       "      <td>NaN</td>\n",
       "      <td>NaN</td>\n",
       "      <td>NaN</td>\n",
       "      <td>...</td>\n",
       "      <td>9.771760e+09</td>\n",
       "      <td>1.034829e+10</td>\n",
       "      <td>1.112752e+10</td>\n",
       "      <td>1.150029e+10</td>\n",
       "      <td>1.192695e+10</td>\n",
       "      <td>1.223109e+10</td>\n",
       "      <td>1.240477e+10</td>\n",
       "      <td>1.254247e+10</td>\n",
       "      <td>1.279331e+10</td>\n",
       "      <td>1.312082e+10</td>\n",
       "    </tr>\n",
       "  </tbody>\n",
       "</table>\n",
       "<p>5 rows × 60 columns</p>\n",
       "</div>"
      ],
      "text/plain": [
       "       Country Country Code                            Indicator Name  \\\n",
       "0        Aruba          ABW  GDP at market prices (constant 2010 US$)   \n",
       "1      Andorra          AND  GDP at market prices (constant 2010 US$)   \n",
       "2  Afghanistan          AFG  GDP at market prices (constant 2010 US$)   \n",
       "3       Angola          AGO  GDP at market prices (constant 2010 US$)   \n",
       "4      Albania          ALB  GDP at market prices (constant 2010 US$)   \n",
       "\n",
       "   Indicator Code  1960  1961  1962  1963  1964  1965  ...          2006  \\\n",
       "0  NY.GDP.MKTP.KD   NaN   NaN   NaN   NaN   NaN   NaN  ...           NaN   \n",
       "1  NY.GDP.MKTP.KD   NaN   NaN   NaN   NaN   NaN   NaN  ...  4.018196e+09   \n",
       "2  NY.GDP.MKTP.KD   NaN   NaN   NaN   NaN   NaN   NaN  ...  1.030523e+10   \n",
       "3  NY.GDP.MKTP.KD   NaN   NaN   NaN   NaN   NaN   NaN  ...  5.581103e+10   \n",
       "4  NY.GDP.MKTP.KD   NaN   NaN   NaN   NaN   NaN   NaN  ...  9.771760e+09   \n",
       "\n",
       "           2007          2008          2009          2010          2011  \\\n",
       "0           NaN           NaN           NaN  2.467704e+09           NaN   \n",
       "1  4.021331e+09  3.675728e+09  3.535389e+09  3.346317e+09  3.185605e+09   \n",
       "2  1.172119e+10  1.214448e+10  1.469733e+10  1.593680e+10  1.691113e+10   \n",
       "3  6.842044e+10  7.787420e+10  7.975320e+10  8.247091e+10  8.570262e+10   \n",
       "4  1.034829e+10  1.112752e+10  1.150029e+10  1.192695e+10  1.223109e+10   \n",
       "\n",
       "           2012          2013          2014          2015  \n",
       "0           NaN           NaN           NaN           NaN  \n",
       "1  3.129538e+09  3.127550e+09           NaN           NaN  \n",
       "2  1.935220e+10  1.973134e+10  1.999032e+10  2.029415e+10  \n",
       "3  9.012096e+10  9.626143e+10  1.008863e+11  1.039106e+11  \n",
       "4  1.240477e+10  1.254247e+10  1.279331e+10  1.312082e+10  \n",
       "\n",
       "[5 rows x 60 columns]"
      ]
     },
     "execution_count": 22,
     "metadata": {},
     "output_type": "execute_result"
    }
   ],
   "source": [
    "## rename column country name to country for match with other dataframes\n",
    "GDP.rename(columns = {'Country Name':'Country' } , inplace = True)\n",
    "GDP.head()"
   ]
  },
  {
   "cell_type": "code",
   "execution_count": 23,
   "id": "guilty-bahamas",
   "metadata": {
    "ExecuteTime": {
     "end_time": "2023-03-11T09:59:36.826037Z",
     "start_time": "2023-03-11T09:59:36.627908Z"
    }
   },
   "outputs": [],
   "source": [
    "full_df = pd.merge(ScimEn ,pd.merge(energy ,GDP ,how = 'left', on = 'Country') ,  how = 'left', on = 'Country')"
   ]
  },
  {
   "cell_type": "code",
   "execution_count": 24,
   "id": "reflected-guitar",
   "metadata": {
    "ExecuteTime": {
     "end_time": "2023-03-11T09:59:36.899168Z",
     "start_time": "2023-03-11T09:59:36.829946Z"
    }
   },
   "outputs": [],
   "source": [
    "full_df = full_df.set_index('Country')"
   ]
  },
  {
   "cell_type": "code",
   "execution_count": 25,
   "id": "pleased-clear",
   "metadata": {
    "ExecuteTime": {
     "end_time": "2023-03-11T09:59:37.022371Z",
     "start_time": "2023-03-11T09:59:36.902413Z"
    }
   },
   "outputs": [
    {
     "data": {
      "text/plain": [
       "Index(['Rank', 'Documents', 'Citable documents', 'Citations', 'Self-citations',\n",
       "       'Citations per document', 'H index', 'Energy Supply',\n",
       "       'Energy Supply per Capita', '% Renewable', 'Country Code',\n",
       "       'Indicator Name', 'Indicator Code', '1960', '1961', '1962', '1963',\n",
       "       '1964', '1965', '1966', '1967', '1968', '1969', '1970', '1971', '1972',\n",
       "       '1973', '1974', '1975', '1976', '1977', '1978', '1979', '1980', '1981',\n",
       "       '1982', '1983', '1984', '1985', '1986', '1987', '1988', '1989', '1990',\n",
       "       '1991', '1992', '1993', '1994', '1995', '1996', '1997', '1998', '1999',\n",
       "       '2000', '2001', '2002', '2003', '2004', '2005', '2006', '2007', '2008',\n",
       "       '2009', '2010', '2011', '2012', '2013', '2014', '2015'],\n",
       "      dtype='object')"
      ]
     },
     "execution_count": 25,
     "metadata": {},
     "output_type": "execute_result"
    }
   ],
   "source": [
    "full_df.columns"
   ]
  },
  {
   "cell_type": "code",
   "execution_count": 26,
   "id": "hybrid-shooting",
   "metadata": {
    "ExecuteTime": {
     "end_time": "2023-03-11T09:59:37.175602Z",
     "start_time": "2023-03-11T09:59:37.027130Z"
    }
   },
   "outputs": [
    {
     "data": {
      "text/plain": [
       "(191, 69)"
      ]
     },
     "execution_count": 26,
     "metadata": {},
     "output_type": "execute_result"
    }
   ],
   "source": [
    "full_df.shape"
   ]
  },
  {
   "cell_type": "code",
   "execution_count": 27,
   "id": "binding-student",
   "metadata": {
    "ExecuteTime": {
     "end_time": "2023-03-11T09:59:37.308179Z",
     "start_time": "2023-03-11T09:59:37.181667Z"
    }
   },
   "outputs": [],
   "source": [
    "required_df = full_df[['Rank', 'Documents', 'Citable documents', 'Citations', 'Self-citations', 'Citations per document', 'H index', 'Energy Supply', 'Energy Supply per Capita', '% Renewable', '2006', '2007', '2008', '2009', '2010', '2011', '2012', '2013', '2014', '2015']]"
   ]
  },
  {
   "cell_type": "code",
   "execution_count": 28,
   "id": "early-myanmar",
   "metadata": {
    "ExecuteTime": {
     "end_time": "2023-03-11T09:59:37.572719Z",
     "start_time": "2023-03-11T09:59:37.311592Z"
    }
   },
   "outputs": [
    {
     "data": {
      "text/plain": [
       "(15, 20)"
      ]
     },
     "execution_count": 28,
     "metadata": {},
     "output_type": "execute_result"
    }
   ],
   "source": [
    "required_df = required_df.iloc[:15]\n",
    "required_df.shape"
   ]
  },
  {
   "cell_type": "code",
   "execution_count": 29,
   "id": "psychological-abraham",
   "metadata": {
    "ExecuteTime": {
     "end_time": "2023-03-11T09:59:37.713426Z",
     "start_time": "2023-03-11T09:59:37.576418Z"
    }
   },
   "outputs": [
    {
     "data": {
      "text/html": [
       "<div>\n",
       "<style scoped>\n",
       "    .dataframe tbody tr th:only-of-type {\n",
       "        vertical-align: middle;\n",
       "    }\n",
       "\n",
       "    .dataframe tbody tr th {\n",
       "        vertical-align: top;\n",
       "    }\n",
       "\n",
       "    .dataframe thead th {\n",
       "        text-align: right;\n",
       "    }\n",
       "</style>\n",
       "<table border=\"1\" class=\"dataframe\">\n",
       "  <thead>\n",
       "    <tr style=\"text-align: right;\">\n",
       "      <th></th>\n",
       "      <th>Rank</th>\n",
       "      <th>Documents</th>\n",
       "      <th>Citable documents</th>\n",
       "      <th>Citations</th>\n",
       "      <th>Self-citations</th>\n",
       "      <th>Citations per document</th>\n",
       "      <th>H index</th>\n",
       "      <th>Energy Supply</th>\n",
       "      <th>Energy Supply per Capita</th>\n",
       "      <th>% Renewable</th>\n",
       "      <th>2006</th>\n",
       "      <th>2007</th>\n",
       "      <th>2008</th>\n",
       "      <th>2009</th>\n",
       "      <th>2010</th>\n",
       "      <th>2011</th>\n",
       "      <th>2012</th>\n",
       "      <th>2013</th>\n",
       "      <th>2014</th>\n",
       "      <th>2015</th>\n",
       "    </tr>\n",
       "    <tr>\n",
       "      <th>Country</th>\n",
       "      <th></th>\n",
       "      <th></th>\n",
       "      <th></th>\n",
       "      <th></th>\n",
       "      <th></th>\n",
       "      <th></th>\n",
       "      <th></th>\n",
       "      <th></th>\n",
       "      <th></th>\n",
       "      <th></th>\n",
       "      <th></th>\n",
       "      <th></th>\n",
       "      <th></th>\n",
       "      <th></th>\n",
       "      <th></th>\n",
       "      <th></th>\n",
       "      <th></th>\n",
       "      <th></th>\n",
       "      <th></th>\n",
       "      <th></th>\n",
       "    </tr>\n",
       "  </thead>\n",
       "  <tbody>\n",
       "    <tr>\n",
       "      <th>China</th>\n",
       "      <td>1</td>\n",
       "      <td>127050</td>\n",
       "      <td>126767</td>\n",
       "      <td>597237</td>\n",
       "      <td>411683</td>\n",
       "      <td>4.70</td>\n",
       "      <td>138</td>\n",
       "      <td>1.271910e+11</td>\n",
       "      <td>93.0</td>\n",
       "      <td>19.75491</td>\n",
       "      <td>3.992331e+12</td>\n",
       "      <td>4.559041e+12</td>\n",
       "      <td>4.997775e+12</td>\n",
       "      <td>5.459247e+12</td>\n",
       "      <td>6.039659e+12</td>\n",
       "      <td>6.612490e+12</td>\n",
       "      <td>7.124978e+12</td>\n",
       "      <td>7.672448e+12</td>\n",
       "      <td>8.230121e+12</td>\n",
       "      <td>8.797999e+12</td>\n",
       "    </tr>\n",
       "    <tr>\n",
       "      <th>United States</th>\n",
       "      <td>2</td>\n",
       "      <td>96661</td>\n",
       "      <td>94747</td>\n",
       "      <td>792274</td>\n",
       "      <td>265436</td>\n",
       "      <td>8.20</td>\n",
       "      <td>230</td>\n",
       "      <td>NaN</td>\n",
       "      <td>NaN</td>\n",
       "      <td>NaN</td>\n",
       "      <td>NaN</td>\n",
       "      <td>NaN</td>\n",
       "      <td>NaN</td>\n",
       "      <td>NaN</td>\n",
       "      <td>NaN</td>\n",
       "      <td>NaN</td>\n",
       "      <td>NaN</td>\n",
       "      <td>NaN</td>\n",
       "      <td>NaN</td>\n",
       "      <td>NaN</td>\n",
       "    </tr>\n",
       "    <tr>\n",
       "      <th>Japan</th>\n",
       "      <td>3</td>\n",
       "      <td>30504</td>\n",
       "      <td>30287</td>\n",
       "      <td>223024</td>\n",
       "      <td>61554</td>\n",
       "      <td>7.31</td>\n",
       "      <td>134</td>\n",
       "      <td>1.898400e+10</td>\n",
       "      <td>149.0</td>\n",
       "      <td>10.23282</td>\n",
       "      <td>5.496542e+12</td>\n",
       "      <td>5.617036e+12</td>\n",
       "      <td>5.558527e+12</td>\n",
       "      <td>5.251308e+12</td>\n",
       "      <td>5.498718e+12</td>\n",
       "      <td>5.473738e+12</td>\n",
       "      <td>5.569102e+12</td>\n",
       "      <td>5.644659e+12</td>\n",
       "      <td>5.642884e+12</td>\n",
       "      <td>5.669563e+12</td>\n",
       "    </tr>\n",
       "    <tr>\n",
       "      <th>United Kingdom</th>\n",
       "      <td>4</td>\n",
       "      <td>20944</td>\n",
       "      <td>20357</td>\n",
       "      <td>206091</td>\n",
       "      <td>37874</td>\n",
       "      <td>9.84</td>\n",
       "      <td>139</td>\n",
       "      <td>NaN</td>\n",
       "      <td>NaN</td>\n",
       "      <td>NaN</td>\n",
       "      <td>NaN</td>\n",
       "      <td>NaN</td>\n",
       "      <td>NaN</td>\n",
       "      <td>NaN</td>\n",
       "      <td>NaN</td>\n",
       "      <td>NaN</td>\n",
       "      <td>NaN</td>\n",
       "      <td>NaN</td>\n",
       "      <td>NaN</td>\n",
       "      <td>NaN</td>\n",
       "    </tr>\n",
       "    <tr>\n",
       "      <th>Russian Federation</th>\n",
       "      <td>5</td>\n",
       "      <td>18534</td>\n",
       "      <td>18301</td>\n",
       "      <td>34266</td>\n",
       "      <td>12422</td>\n",
       "      <td>1.85</td>\n",
       "      <td>57</td>\n",
       "      <td>3.070900e+10</td>\n",
       "      <td>214.0</td>\n",
       "      <td>17.28868</td>\n",
       "      <td>1.385793e+12</td>\n",
       "      <td>1.504071e+12</td>\n",
       "      <td>1.583004e+12</td>\n",
       "      <td>1.459199e+12</td>\n",
       "      <td>1.524917e+12</td>\n",
       "      <td>1.589943e+12</td>\n",
       "      <td>1.645876e+12</td>\n",
       "      <td>1.666934e+12</td>\n",
       "      <td>1.678709e+12</td>\n",
       "      <td>1.616149e+12</td>\n",
       "    </tr>\n",
       "  </tbody>\n",
       "</table>\n",
       "</div>"
      ],
      "text/plain": [
       "                    Rank  Documents  Citable documents  Citations  \\\n",
       "Country                                                             \n",
       "China                  1     127050             126767     597237   \n",
       "United States          2      96661              94747     792274   \n",
       "Japan                  3      30504              30287     223024   \n",
       "United Kingdom         4      20944              20357     206091   \n",
       "Russian Federation     5      18534              18301      34266   \n",
       "\n",
       "                    Self-citations  Citations per document  H index  \\\n",
       "Country                                                               \n",
       "China                       411683                    4.70      138   \n",
       "United States               265436                    8.20      230   \n",
       "Japan                        61554                    7.31      134   \n",
       "United Kingdom               37874                    9.84      139   \n",
       "Russian Federation           12422                    1.85       57   \n",
       "\n",
       "                    Energy Supply  Energy Supply per Capita  % Renewable  \\\n",
       "Country                                                                    \n",
       "China                1.271910e+11                      93.0     19.75491   \n",
       "United States                 NaN                       NaN          NaN   \n",
       "Japan                1.898400e+10                     149.0     10.23282   \n",
       "United Kingdom                NaN                       NaN          NaN   \n",
       "Russian Federation   3.070900e+10                     214.0     17.28868   \n",
       "\n",
       "                            2006          2007          2008          2009  \\\n",
       "Country                                                                      \n",
       "China               3.992331e+12  4.559041e+12  4.997775e+12  5.459247e+12   \n",
       "United States                NaN           NaN           NaN           NaN   \n",
       "Japan               5.496542e+12  5.617036e+12  5.558527e+12  5.251308e+12   \n",
       "United Kingdom               NaN           NaN           NaN           NaN   \n",
       "Russian Federation  1.385793e+12  1.504071e+12  1.583004e+12  1.459199e+12   \n",
       "\n",
       "                            2010          2011          2012          2013  \\\n",
       "Country                                                                      \n",
       "China               6.039659e+12  6.612490e+12  7.124978e+12  7.672448e+12   \n",
       "United States                NaN           NaN           NaN           NaN   \n",
       "Japan               5.498718e+12  5.473738e+12  5.569102e+12  5.644659e+12   \n",
       "United Kingdom               NaN           NaN           NaN           NaN   \n",
       "Russian Federation  1.524917e+12  1.589943e+12  1.645876e+12  1.666934e+12   \n",
       "\n",
       "                            2014          2015  \n",
       "Country                                         \n",
       "China               8.230121e+12  8.797999e+12  \n",
       "United States                NaN           NaN  \n",
       "Japan               5.642884e+12  5.669563e+12  \n",
       "United Kingdom               NaN           NaN  \n",
       "Russian Federation  1.678709e+12  1.616149e+12  "
      ]
     },
     "execution_count": 29,
     "metadata": {},
     "output_type": "execute_result"
    }
   ],
   "source": [
    "## head of data\n",
    "required_df.head()"
   ]
  },
  {
   "cell_type": "markdown",
   "id": "generous-consistency",
   "metadata": {},
   "source": [
    "## Step 4 (Number of rows that lost in step 3)"
   ]
  },
  {
   "cell_type": "code",
   "execution_count": 30,
   "id": "particular-heart",
   "metadata": {
    "ExecuteTime": {
     "end_time": "2023-03-11T09:59:37.846034Z",
     "start_time": "2023-03-11T09:59:37.717371Z"
    }
   },
   "outputs": [
    {
     "data": {
      "text/plain": [
       "176"
      ]
     },
     "execution_count": 30,
     "metadata": {},
     "output_type": "execute_result"
    }
   ],
   "source": [
    "## number of lost entries\n",
    "len(full_df) - len(required_df)"
   ]
  },
  {
   "cell_type": "markdown",
   "id": "better-atmosphere",
   "metadata": {},
   "source": [
    "## Step 5 (What is the Average GDP over the last 10 years for each country?)\n",
    " \n"
   ]
  },
  {
   "cell_type": "code",
   "execution_count": 31,
   "id": "favorite-chain",
   "metadata": {
    "ExecuteTime": {
     "end_time": "2023-03-11T09:59:37.953961Z",
     "start_time": "2023-03-11T09:59:37.850017Z"
    }
   },
   "outputs": [
    {
     "data": {
      "text/plain": [
       "<bound method Series.sort_values of Country\n",
       "China                 6.348609e+12\n",
       "United States                  NaN\n",
       "Japan                 5.542208e+12\n",
       "United Kingdom                 NaN\n",
       "Russian Federation    1.565459e+12\n",
       "Canada                1.660647e+12\n",
       "Germany               3.493025e+12\n",
       "India                 1.769297e+12\n",
       "France                2.681725e+12\n",
       "South Korea           1.106715e+12\n",
       "Italy                 2.120175e+12\n",
       "Spain                 1.418078e+12\n",
       "Iran                           NaN\n",
       "Australia             1.164043e+12\n",
       "Brazil                2.189794e+12\n",
       "dtype: float64>"
      ]
     },
     "execution_count": 31,
     "metadata": {},
     "output_type": "execute_result"
    }
   ],
   "source": [
    "required_df.iloc[: , 10:].mean(axis = 1).sort_values"
   ]
  },
  {
   "cell_type": "markdown",
   "id": "pregnant-insulin",
   "metadata": {},
   "source": [
    "## step 6 (What is the mean of Energy Supply per Capita?)"
   ]
  },
  {
   "cell_type": "code",
   "execution_count": 32,
   "id": "lasting-tolerance",
   "metadata": {
    "ExecuteTime": {
     "end_time": "2023-03-11T09:59:38.078204Z",
     "start_time": "2023-03-11T09:59:37.956948Z"
    }
   },
   "outputs": [
    {
     "data": {
      "text/plain": [
       "152.91666666666666"
      ]
     },
     "execution_count": 32,
     "metadata": {},
     "output_type": "execute_result"
    }
   ],
   "source": [
    "required_df['Energy Supply per Capita'].mean()"
   ]
  },
  {
   "cell_type": "markdown",
   "id": "robust-hearing",
   "metadata": {
    "ExecuteTime": {
     "end_time": "2023-02-23T22:39:31.471431Z",
     "start_time": "2023-02-23T22:39:31.465735Z"
    }
   },
   "source": [
    "## Step 7 (What country has the maximum % Reneweble? And what is the percentage?)"
   ]
  },
  {
   "cell_type": "code",
   "execution_count": 33,
   "id": "disturbed-terror",
   "metadata": {
    "ExecuteTime": {
     "end_time": "2023-03-11T09:59:38.200371Z",
     "start_time": "2023-03-11T09:59:38.081751Z"
    }
   },
   "outputs": [
    {
     "data": {
      "text/plain": [
       "('Brazil', 69.64803)"
      ]
     },
     "execution_count": 33,
     "metadata": {},
     "output_type": "execute_result"
    }
   ],
   "source": [
    "(required_df['% Renewable'].idxmax(), required_df['% Renewable'].max())"
   ]
  },
  {
   "cell_type": "markdown",
   "id": "attached-packing",
   "metadata": {
    "ExecuteTime": {
     "end_time": "2023-02-23T22:44:21.723676Z",
     "start_time": "2023-02-23T22:44:21.718849Z"
    }
   },
   "source": [
    "## Step 8 (What are the ratios of Self-Citations to Total-Citations?)"
   ]
  },
  {
   "cell_type": "code",
   "execution_count": 34,
   "id": "variable-brake",
   "metadata": {
    "ExecuteTime": {
     "end_time": "2023-03-11T09:59:38.321501Z",
     "start_time": "2023-03-11T09:59:38.204202Z"
    }
   },
   "outputs": [],
   "source": [
    "required_df['citations ratio %'] =  round((required_df['Self-citations'] / required_df['Citations'])*100,2)"
   ]
  },
  {
   "cell_type": "code",
   "execution_count": 35,
   "id": "appreciated-dating",
   "metadata": {
    "ExecuteTime": {
     "end_time": "2023-03-11T09:59:38.513629Z",
     "start_time": "2023-03-11T09:59:38.326068Z"
    }
   },
   "outputs": [
    {
     "data": {
      "text/html": [
       "<div>\n",
       "<style scoped>\n",
       "    .dataframe tbody tr th:only-of-type {\n",
       "        vertical-align: middle;\n",
       "    }\n",
       "\n",
       "    .dataframe tbody tr th {\n",
       "        vertical-align: top;\n",
       "    }\n",
       "\n",
       "    .dataframe thead th {\n",
       "        text-align: right;\n",
       "    }\n",
       "</style>\n",
       "<table border=\"1\" class=\"dataframe\">\n",
       "  <thead>\n",
       "    <tr style=\"text-align: right;\">\n",
       "      <th></th>\n",
       "      <th>Rank</th>\n",
       "      <th>Documents</th>\n",
       "      <th>Citable documents</th>\n",
       "      <th>Citations</th>\n",
       "      <th>Self-citations</th>\n",
       "      <th>Citations per document</th>\n",
       "      <th>H index</th>\n",
       "      <th>Energy Supply</th>\n",
       "      <th>Energy Supply per Capita</th>\n",
       "      <th>% Renewable</th>\n",
       "      <th>...</th>\n",
       "      <th>2007</th>\n",
       "      <th>2008</th>\n",
       "      <th>2009</th>\n",
       "      <th>2010</th>\n",
       "      <th>2011</th>\n",
       "      <th>2012</th>\n",
       "      <th>2013</th>\n",
       "      <th>2014</th>\n",
       "      <th>2015</th>\n",
       "      <th>citations ratio %</th>\n",
       "    </tr>\n",
       "    <tr>\n",
       "      <th>Country</th>\n",
       "      <th></th>\n",
       "      <th></th>\n",
       "      <th></th>\n",
       "      <th></th>\n",
       "      <th></th>\n",
       "      <th></th>\n",
       "      <th></th>\n",
       "      <th></th>\n",
       "      <th></th>\n",
       "      <th></th>\n",
       "      <th></th>\n",
       "      <th></th>\n",
       "      <th></th>\n",
       "      <th></th>\n",
       "      <th></th>\n",
       "      <th></th>\n",
       "      <th></th>\n",
       "      <th></th>\n",
       "      <th></th>\n",
       "      <th></th>\n",
       "      <th></th>\n",
       "    </tr>\n",
       "  </thead>\n",
       "  <tbody>\n",
       "    <tr>\n",
       "      <th>China</th>\n",
       "      <td>1</td>\n",
       "      <td>127050</td>\n",
       "      <td>126767</td>\n",
       "      <td>597237</td>\n",
       "      <td>411683</td>\n",
       "      <td>4.70</td>\n",
       "      <td>138</td>\n",
       "      <td>1.271910e+11</td>\n",
       "      <td>93.0</td>\n",
       "      <td>19.75491</td>\n",
       "      <td>...</td>\n",
       "      <td>4.559041e+12</td>\n",
       "      <td>4.997775e+12</td>\n",
       "      <td>5.459247e+12</td>\n",
       "      <td>6.039659e+12</td>\n",
       "      <td>6.612490e+12</td>\n",
       "      <td>7.124978e+12</td>\n",
       "      <td>7.672448e+12</td>\n",
       "      <td>8.230121e+12</td>\n",
       "      <td>8.797999e+12</td>\n",
       "      <td>68.93</td>\n",
       "    </tr>\n",
       "    <tr>\n",
       "      <th>United States</th>\n",
       "      <td>2</td>\n",
       "      <td>96661</td>\n",
       "      <td>94747</td>\n",
       "      <td>792274</td>\n",
       "      <td>265436</td>\n",
       "      <td>8.20</td>\n",
       "      <td>230</td>\n",
       "      <td>NaN</td>\n",
       "      <td>NaN</td>\n",
       "      <td>NaN</td>\n",
       "      <td>...</td>\n",
       "      <td>NaN</td>\n",
       "      <td>NaN</td>\n",
       "      <td>NaN</td>\n",
       "      <td>NaN</td>\n",
       "      <td>NaN</td>\n",
       "      <td>NaN</td>\n",
       "      <td>NaN</td>\n",
       "      <td>NaN</td>\n",
       "      <td>NaN</td>\n",
       "      <td>33.50</td>\n",
       "    </tr>\n",
       "    <tr>\n",
       "      <th>Japan</th>\n",
       "      <td>3</td>\n",
       "      <td>30504</td>\n",
       "      <td>30287</td>\n",
       "      <td>223024</td>\n",
       "      <td>61554</td>\n",
       "      <td>7.31</td>\n",
       "      <td>134</td>\n",
       "      <td>1.898400e+10</td>\n",
       "      <td>149.0</td>\n",
       "      <td>10.23282</td>\n",
       "      <td>...</td>\n",
       "      <td>5.617036e+12</td>\n",
       "      <td>5.558527e+12</td>\n",
       "      <td>5.251308e+12</td>\n",
       "      <td>5.498718e+12</td>\n",
       "      <td>5.473738e+12</td>\n",
       "      <td>5.569102e+12</td>\n",
       "      <td>5.644659e+12</td>\n",
       "      <td>5.642884e+12</td>\n",
       "      <td>5.669563e+12</td>\n",
       "      <td>27.60</td>\n",
       "    </tr>\n",
       "    <tr>\n",
       "      <th>United Kingdom</th>\n",
       "      <td>4</td>\n",
       "      <td>20944</td>\n",
       "      <td>20357</td>\n",
       "      <td>206091</td>\n",
       "      <td>37874</td>\n",
       "      <td>9.84</td>\n",
       "      <td>139</td>\n",
       "      <td>NaN</td>\n",
       "      <td>NaN</td>\n",
       "      <td>NaN</td>\n",
       "      <td>...</td>\n",
       "      <td>NaN</td>\n",
       "      <td>NaN</td>\n",
       "      <td>NaN</td>\n",
       "      <td>NaN</td>\n",
       "      <td>NaN</td>\n",
       "      <td>NaN</td>\n",
       "      <td>NaN</td>\n",
       "      <td>NaN</td>\n",
       "      <td>NaN</td>\n",
       "      <td>18.38</td>\n",
       "    </tr>\n",
       "    <tr>\n",
       "      <th>Russian Federation</th>\n",
       "      <td>5</td>\n",
       "      <td>18534</td>\n",
       "      <td>18301</td>\n",
       "      <td>34266</td>\n",
       "      <td>12422</td>\n",
       "      <td>1.85</td>\n",
       "      <td>57</td>\n",
       "      <td>3.070900e+10</td>\n",
       "      <td>214.0</td>\n",
       "      <td>17.28868</td>\n",
       "      <td>...</td>\n",
       "      <td>1.504071e+12</td>\n",
       "      <td>1.583004e+12</td>\n",
       "      <td>1.459199e+12</td>\n",
       "      <td>1.524917e+12</td>\n",
       "      <td>1.589943e+12</td>\n",
       "      <td>1.645876e+12</td>\n",
       "      <td>1.666934e+12</td>\n",
       "      <td>1.678709e+12</td>\n",
       "      <td>1.616149e+12</td>\n",
       "      <td>36.25</td>\n",
       "    </tr>\n",
       "  </tbody>\n",
       "</table>\n",
       "<p>5 rows × 21 columns</p>\n",
       "</div>"
      ],
      "text/plain": [
       "                    Rank  Documents  Citable documents  Citations  \\\n",
       "Country                                                             \n",
       "China                  1     127050             126767     597237   \n",
       "United States          2      96661              94747     792274   \n",
       "Japan                  3      30504              30287     223024   \n",
       "United Kingdom         4      20944              20357     206091   \n",
       "Russian Federation     5      18534              18301      34266   \n",
       "\n",
       "                    Self-citations  Citations per document  H index  \\\n",
       "Country                                                               \n",
       "China                       411683                    4.70      138   \n",
       "United States               265436                    8.20      230   \n",
       "Japan                        61554                    7.31      134   \n",
       "United Kingdom               37874                    9.84      139   \n",
       "Russian Federation           12422                    1.85       57   \n",
       "\n",
       "                    Energy Supply  Energy Supply per Capita  % Renewable  ...  \\\n",
       "Country                                                                   ...   \n",
       "China                1.271910e+11                      93.0     19.75491  ...   \n",
       "United States                 NaN                       NaN          NaN  ...   \n",
       "Japan                1.898400e+10                     149.0     10.23282  ...   \n",
       "United Kingdom                NaN                       NaN          NaN  ...   \n",
       "Russian Federation   3.070900e+10                     214.0     17.28868  ...   \n",
       "\n",
       "                            2007          2008          2009          2010  \\\n",
       "Country                                                                      \n",
       "China               4.559041e+12  4.997775e+12  5.459247e+12  6.039659e+12   \n",
       "United States                NaN           NaN           NaN           NaN   \n",
       "Japan               5.617036e+12  5.558527e+12  5.251308e+12  5.498718e+12   \n",
       "United Kingdom               NaN           NaN           NaN           NaN   \n",
       "Russian Federation  1.504071e+12  1.583004e+12  1.459199e+12  1.524917e+12   \n",
       "\n",
       "                            2011          2012          2013          2014  \\\n",
       "Country                                                                      \n",
       "China               6.612490e+12  7.124978e+12  7.672448e+12  8.230121e+12   \n",
       "United States                NaN           NaN           NaN           NaN   \n",
       "Japan               5.473738e+12  5.569102e+12  5.644659e+12  5.642884e+12   \n",
       "United Kingdom               NaN           NaN           NaN           NaN   \n",
       "Russian Federation  1.589943e+12  1.645876e+12  1.666934e+12  1.678709e+12   \n",
       "\n",
       "                            2015  citations ratio %  \n",
       "Country                                              \n",
       "China               8.797999e+12              68.93  \n",
       "United States                NaN              33.50  \n",
       "Japan               5.669563e+12              27.60  \n",
       "United Kingdom               NaN              18.38  \n",
       "Russian Federation  1.616149e+12              36.25  \n",
       "\n",
       "[5 rows x 21 columns]"
      ]
     },
     "execution_count": 35,
     "metadata": {},
     "output_type": "execute_result"
    }
   ],
   "source": [
    "required_df.head()"
   ]
  },
  {
   "cell_type": "code",
   "execution_count": 36,
   "id": "whole-remains",
   "metadata": {
    "ExecuteTime": {
     "end_time": "2023-03-11T09:59:38.621420Z",
     "start_time": "2023-03-11T09:59:38.518664Z"
    }
   },
   "outputs": [
    {
     "data": {
      "text/plain": [
       "('China', 68.93)"
      ]
     },
     "execution_count": 36,
     "metadata": {},
     "output_type": "execute_result"
    }
   ],
   "source": [
    "(required_df['citations ratio %'].idxmax(), required_df['citations ratio %'].max())"
   ]
  },
  {
   "cell_type": "markdown",
   "id": "functional-penalty",
   "metadata": {},
   "source": [
    "## Step 9 (What is the distribution of my % Reneweble column? (through knowing how many values are above or below the median))"
   ]
  },
  {
   "cell_type": "code",
   "execution_count": 37,
   "id": "amateur-masters",
   "metadata": {
    "ExecuteTime": {
     "end_time": "2023-03-11T09:59:38.803872Z",
     "start_time": "2023-03-11T09:59:38.625864Z"
    }
   },
   "outputs": [],
   "source": [
    "required_df.loc[required_df['% Renewable'] >= required_df['% Renewable'].median() , 'Renewable Segmentation'] = \"1\"\n",
    "required_df.loc[required_df['% Renewable'] < required_df['% Renewable'].median() , 'Renewable Segmentation'] = \"0\""
   ]
  },
  {
   "cell_type": "code",
   "execution_count": 38,
   "id": "norwegian-geometry",
   "metadata": {
    "ExecuteTime": {
     "end_time": "2023-03-11T09:59:38.887982Z",
     "start_time": "2023-03-11T09:59:38.806949Z"
    }
   },
   "outputs": [
    {
     "data": {
      "text/plain": [
       "Country\n",
       "China                   1\n",
       "United States         NaN\n",
       "Japan                   0\n",
       "United Kingdom        NaN\n",
       "Russian Federation      0\n",
       "Canada                  1\n",
       "Germany                 1\n",
       "India                   0\n",
       "France                  0\n",
       "South Korea             0\n",
       "Italy                   1\n",
       "Spain                   1\n",
       "Iran                  NaN\n",
       "Australia               0\n",
       "Brazil                  1\n",
       "Name: Renewable Segmentation, dtype: object"
      ]
     },
     "execution_count": 38,
     "metadata": {},
     "output_type": "execute_result"
    }
   ],
   "source": [
    "required_df['Renewable Segmentation']"
   ]
  },
  {
   "cell_type": "code",
   "execution_count": null,
   "id": "consolidated-asbestos",
   "metadata": {
    "ExecuteTime": {
     "end_time": "2023-02-24T13:02:22.470903Z",
     "start_time": "2023-02-24T13:02:22.334071Z"
    }
   },
   "outputs": [],
   "source": []
  },
  {
   "cell_type": "markdown",
   "id": "registered-roads",
   "metadata": {
    "ExecuteTime": {
     "end_time": "2023-02-23T23:06:41.715215Z",
     "start_time": "2023-02-23T23:06:41.710481Z"
    }
   },
   "source": [
    "## Step 10\n",
    "Using the following dictionary to group the Countries by Continent, Then creating a dateframe that displays the sample size (the number of countries in each continent bin), and the sum, mean, and std deviation for the estimated population of each country.\n",
    "\n"
   ]
  },
  {
   "cell_type": "code",
   "execution_count": 39,
   "id": "concerned-tokyo",
   "metadata": {
    "ExecuteTime": {
     "end_time": "2023-03-11T09:59:38.989938Z",
     "start_time": "2023-03-11T09:59:38.890644Z"
    }
   },
   "outputs": [],
   "source": [
    "ContinentDict  = {'China':'Asia', \n",
    "                  'United States':'North America', \n",
    "                  'Japan':'Asia', \n",
    "                  'United Kingdom':'Europe', \n",
    "                  'Russian Federation':'Europe', \n",
    "                  'Canada':'North America', \n",
    "                  'Germany':'Europe', \n",
    "                  'India':'Asia',\n",
    "                  'France':'Europe', \n",
    "                  'South Korea':'Asia', \n",
    "                  'Italy':'Europe', \n",
    "                  'Spain':'Europe', \n",
    "                  'Iran':'Asia',\n",
    "                  'Australia':'Australia', \n",
    "                  'Brazil':'South America'}"
   ]
  },
  {
   "cell_type": "code",
   "execution_count": 40,
   "id": "referenced-classic",
   "metadata": {
    "ExecuteTime": {
     "end_time": "2023-03-11T09:59:39.090558Z",
     "start_time": "2023-03-11T09:59:38.993093Z"
    }
   },
   "outputs": [],
   "source": [
    "## to assign each country with its Continent\n",
    "required_df['Continent'] = pd.Series(ContinentDict)"
   ]
  },
  {
   "cell_type": "code",
   "execution_count": 41,
   "id": "powered-selection",
   "metadata": {
    "ExecuteTime": {
     "end_time": "2023-03-11T09:59:39.238504Z",
     "start_time": "2023-03-11T09:59:39.093433Z"
    }
   },
   "outputs": [
    {
     "data": {
      "text/html": [
       "<div>\n",
       "<style scoped>\n",
       "    .dataframe tbody tr th:only-of-type {\n",
       "        vertical-align: middle;\n",
       "    }\n",
       "\n",
       "    .dataframe tbody tr th {\n",
       "        vertical-align: top;\n",
       "    }\n",
       "\n",
       "    .dataframe thead th {\n",
       "        text-align: right;\n",
       "    }\n",
       "</style>\n",
       "<table border=\"1\" class=\"dataframe\">\n",
       "  <thead>\n",
       "    <tr style=\"text-align: right;\">\n",
       "      <th></th>\n",
       "      <th>Rank</th>\n",
       "      <th>Documents</th>\n",
       "      <th>Citable documents</th>\n",
       "      <th>Citations</th>\n",
       "      <th>Self-citations</th>\n",
       "      <th>Citations per document</th>\n",
       "      <th>H index</th>\n",
       "      <th>Energy Supply</th>\n",
       "      <th>Energy Supply per Capita</th>\n",
       "      <th>% Renewable</th>\n",
       "      <th>...</th>\n",
       "      <th>2009</th>\n",
       "      <th>2010</th>\n",
       "      <th>2011</th>\n",
       "      <th>2012</th>\n",
       "      <th>2013</th>\n",
       "      <th>2014</th>\n",
       "      <th>2015</th>\n",
       "      <th>citations ratio %</th>\n",
       "      <th>Renewable Segmentation</th>\n",
       "      <th>Continent</th>\n",
       "    </tr>\n",
       "    <tr>\n",
       "      <th>Country</th>\n",
       "      <th></th>\n",
       "      <th></th>\n",
       "      <th></th>\n",
       "      <th></th>\n",
       "      <th></th>\n",
       "      <th></th>\n",
       "      <th></th>\n",
       "      <th></th>\n",
       "      <th></th>\n",
       "      <th></th>\n",
       "      <th></th>\n",
       "      <th></th>\n",
       "      <th></th>\n",
       "      <th></th>\n",
       "      <th></th>\n",
       "      <th></th>\n",
       "      <th></th>\n",
       "      <th></th>\n",
       "      <th></th>\n",
       "      <th></th>\n",
       "      <th></th>\n",
       "    </tr>\n",
       "  </thead>\n",
       "  <tbody>\n",
       "    <tr>\n",
       "      <th>China</th>\n",
       "      <td>1</td>\n",
       "      <td>127050</td>\n",
       "      <td>126767</td>\n",
       "      <td>597237</td>\n",
       "      <td>411683</td>\n",
       "      <td>4.70</td>\n",
       "      <td>138</td>\n",
       "      <td>1.271910e+11</td>\n",
       "      <td>93.0</td>\n",
       "      <td>19.75491</td>\n",
       "      <td>...</td>\n",
       "      <td>5.459247e+12</td>\n",
       "      <td>6.039659e+12</td>\n",
       "      <td>6.612490e+12</td>\n",
       "      <td>7.124978e+12</td>\n",
       "      <td>7.672448e+12</td>\n",
       "      <td>8.230121e+12</td>\n",
       "      <td>8.797999e+12</td>\n",
       "      <td>68.93</td>\n",
       "      <td>1</td>\n",
       "      <td>Asia</td>\n",
       "    </tr>\n",
       "    <tr>\n",
       "      <th>United States</th>\n",
       "      <td>2</td>\n",
       "      <td>96661</td>\n",
       "      <td>94747</td>\n",
       "      <td>792274</td>\n",
       "      <td>265436</td>\n",
       "      <td>8.20</td>\n",
       "      <td>230</td>\n",
       "      <td>NaN</td>\n",
       "      <td>NaN</td>\n",
       "      <td>NaN</td>\n",
       "      <td>...</td>\n",
       "      <td>NaN</td>\n",
       "      <td>NaN</td>\n",
       "      <td>NaN</td>\n",
       "      <td>NaN</td>\n",
       "      <td>NaN</td>\n",
       "      <td>NaN</td>\n",
       "      <td>NaN</td>\n",
       "      <td>33.50</td>\n",
       "      <td>NaN</td>\n",
       "      <td>North America</td>\n",
       "    </tr>\n",
       "    <tr>\n",
       "      <th>Japan</th>\n",
       "      <td>3</td>\n",
       "      <td>30504</td>\n",
       "      <td>30287</td>\n",
       "      <td>223024</td>\n",
       "      <td>61554</td>\n",
       "      <td>7.31</td>\n",
       "      <td>134</td>\n",
       "      <td>1.898400e+10</td>\n",
       "      <td>149.0</td>\n",
       "      <td>10.23282</td>\n",
       "      <td>...</td>\n",
       "      <td>5.251308e+12</td>\n",
       "      <td>5.498718e+12</td>\n",
       "      <td>5.473738e+12</td>\n",
       "      <td>5.569102e+12</td>\n",
       "      <td>5.644659e+12</td>\n",
       "      <td>5.642884e+12</td>\n",
       "      <td>5.669563e+12</td>\n",
       "      <td>27.60</td>\n",
       "      <td>0</td>\n",
       "      <td>Asia</td>\n",
       "    </tr>\n",
       "    <tr>\n",
       "      <th>United Kingdom</th>\n",
       "      <td>4</td>\n",
       "      <td>20944</td>\n",
       "      <td>20357</td>\n",
       "      <td>206091</td>\n",
       "      <td>37874</td>\n",
       "      <td>9.84</td>\n",
       "      <td>139</td>\n",
       "      <td>NaN</td>\n",
       "      <td>NaN</td>\n",
       "      <td>NaN</td>\n",
       "      <td>...</td>\n",
       "      <td>NaN</td>\n",
       "      <td>NaN</td>\n",
       "      <td>NaN</td>\n",
       "      <td>NaN</td>\n",
       "      <td>NaN</td>\n",
       "      <td>NaN</td>\n",
       "      <td>NaN</td>\n",
       "      <td>18.38</td>\n",
       "      <td>NaN</td>\n",
       "      <td>Europe</td>\n",
       "    </tr>\n",
       "    <tr>\n",
       "      <th>Russian Federation</th>\n",
       "      <td>5</td>\n",
       "      <td>18534</td>\n",
       "      <td>18301</td>\n",
       "      <td>34266</td>\n",
       "      <td>12422</td>\n",
       "      <td>1.85</td>\n",
       "      <td>57</td>\n",
       "      <td>3.070900e+10</td>\n",
       "      <td>214.0</td>\n",
       "      <td>17.28868</td>\n",
       "      <td>...</td>\n",
       "      <td>1.459199e+12</td>\n",
       "      <td>1.524917e+12</td>\n",
       "      <td>1.589943e+12</td>\n",
       "      <td>1.645876e+12</td>\n",
       "      <td>1.666934e+12</td>\n",
       "      <td>1.678709e+12</td>\n",
       "      <td>1.616149e+12</td>\n",
       "      <td>36.25</td>\n",
       "      <td>0</td>\n",
       "      <td>Europe</td>\n",
       "    </tr>\n",
       "  </tbody>\n",
       "</table>\n",
       "<p>5 rows × 23 columns</p>\n",
       "</div>"
      ],
      "text/plain": [
       "                    Rank  Documents  Citable documents  Citations  \\\n",
       "Country                                                             \n",
       "China                  1     127050             126767     597237   \n",
       "United States          2      96661              94747     792274   \n",
       "Japan                  3      30504              30287     223024   \n",
       "United Kingdom         4      20944              20357     206091   \n",
       "Russian Federation     5      18534              18301      34266   \n",
       "\n",
       "                    Self-citations  Citations per document  H index  \\\n",
       "Country                                                               \n",
       "China                       411683                    4.70      138   \n",
       "United States               265436                    8.20      230   \n",
       "Japan                        61554                    7.31      134   \n",
       "United Kingdom               37874                    9.84      139   \n",
       "Russian Federation           12422                    1.85       57   \n",
       "\n",
       "                    Energy Supply  Energy Supply per Capita  % Renewable  ...  \\\n",
       "Country                                                                   ...   \n",
       "China                1.271910e+11                      93.0     19.75491  ...   \n",
       "United States                 NaN                       NaN          NaN  ...   \n",
       "Japan                1.898400e+10                     149.0     10.23282  ...   \n",
       "United Kingdom                NaN                       NaN          NaN  ...   \n",
       "Russian Federation   3.070900e+10                     214.0     17.28868  ...   \n",
       "\n",
       "                            2009          2010          2011          2012  \\\n",
       "Country                                                                      \n",
       "China               5.459247e+12  6.039659e+12  6.612490e+12  7.124978e+12   \n",
       "United States                NaN           NaN           NaN           NaN   \n",
       "Japan               5.251308e+12  5.498718e+12  5.473738e+12  5.569102e+12   \n",
       "United Kingdom               NaN           NaN           NaN           NaN   \n",
       "Russian Federation  1.459199e+12  1.524917e+12  1.589943e+12  1.645876e+12   \n",
       "\n",
       "                            2013          2014          2015  \\\n",
       "Country                                                        \n",
       "China               7.672448e+12  8.230121e+12  8.797999e+12   \n",
       "United States                NaN           NaN           NaN   \n",
       "Japan               5.644659e+12  5.642884e+12  5.669563e+12   \n",
       "United Kingdom               NaN           NaN           NaN   \n",
       "Russian Federation  1.666934e+12  1.678709e+12  1.616149e+12   \n",
       "\n",
       "                    citations ratio %  Renewable Segmentation      Continent  \n",
       "Country                                                                       \n",
       "China                           68.93                       1           Asia  \n",
       "United States                   33.50                     NaN  North America  \n",
       "Japan                           27.60                       0           Asia  \n",
       "United Kingdom                  18.38                     NaN         Europe  \n",
       "Russian Federation              36.25                       0         Europe  \n",
       "\n",
       "[5 rows x 23 columns]"
      ]
     },
     "execution_count": 41,
     "metadata": {},
     "output_type": "execute_result"
    }
   ],
   "source": [
    "required_df.head()"
   ]
  },
  {
   "cell_type": "code",
   "execution_count": 42,
   "id": "sustained-contrary",
   "metadata": {
    "ExecuteTime": {
     "end_time": "2023-03-11T09:59:39.312219Z",
     "start_time": "2023-03-11T09:59:39.242160Z"
    }
   },
   "outputs": [],
   "source": [
    "## calculate population from Energy Supply & Energy Supply per Capita\n",
    "\n",
    "required_df['Population'] = required_df['Energy Supply'] / required_df['Energy Supply per Capita']"
   ]
  },
  {
   "cell_type": "code",
   "execution_count": 43,
   "id": "conscious-stockholm",
   "metadata": {
    "ExecuteTime": {
     "end_time": "2023-03-11T09:59:39.512159Z",
     "start_time": "2023-03-11T09:59:39.315860Z"
    }
   },
   "outputs": [
    {
     "data": {
      "text/html": [
       "<div>\n",
       "<style scoped>\n",
       "    .dataframe tbody tr th:only-of-type {\n",
       "        vertical-align: middle;\n",
       "    }\n",
       "\n",
       "    .dataframe tbody tr th {\n",
       "        vertical-align: top;\n",
       "    }\n",
       "\n",
       "    .dataframe thead th {\n",
       "        text-align: right;\n",
       "    }\n",
       "</style>\n",
       "<table border=\"1\" class=\"dataframe\">\n",
       "  <thead>\n",
       "    <tr style=\"text-align: right;\">\n",
       "      <th></th>\n",
       "      <th>Rank</th>\n",
       "      <th>Documents</th>\n",
       "      <th>Citable documents</th>\n",
       "      <th>Citations</th>\n",
       "      <th>Self-citations</th>\n",
       "      <th>Citations per document</th>\n",
       "      <th>H index</th>\n",
       "      <th>Energy Supply</th>\n",
       "      <th>Energy Supply per Capita</th>\n",
       "      <th>% Renewable</th>\n",
       "      <th>...</th>\n",
       "      <th>2010</th>\n",
       "      <th>2011</th>\n",
       "      <th>2012</th>\n",
       "      <th>2013</th>\n",
       "      <th>2014</th>\n",
       "      <th>2015</th>\n",
       "      <th>citations ratio %</th>\n",
       "      <th>Renewable Segmentation</th>\n",
       "      <th>Continent</th>\n",
       "      <th>Population</th>\n",
       "    </tr>\n",
       "    <tr>\n",
       "      <th>Country</th>\n",
       "      <th></th>\n",
       "      <th></th>\n",
       "      <th></th>\n",
       "      <th></th>\n",
       "      <th></th>\n",
       "      <th></th>\n",
       "      <th></th>\n",
       "      <th></th>\n",
       "      <th></th>\n",
       "      <th></th>\n",
       "      <th></th>\n",
       "      <th></th>\n",
       "      <th></th>\n",
       "      <th></th>\n",
       "      <th></th>\n",
       "      <th></th>\n",
       "      <th></th>\n",
       "      <th></th>\n",
       "      <th></th>\n",
       "      <th></th>\n",
       "      <th></th>\n",
       "    </tr>\n",
       "  </thead>\n",
       "  <tbody>\n",
       "    <tr>\n",
       "      <th>China</th>\n",
       "      <td>1</td>\n",
       "      <td>127050</td>\n",
       "      <td>126767</td>\n",
       "      <td>597237</td>\n",
       "      <td>411683</td>\n",
       "      <td>4.70</td>\n",
       "      <td>138</td>\n",
       "      <td>1.271910e+11</td>\n",
       "      <td>93.0</td>\n",
       "      <td>19.75491</td>\n",
       "      <td>...</td>\n",
       "      <td>6.039659e+12</td>\n",
       "      <td>6.612490e+12</td>\n",
       "      <td>7.124978e+12</td>\n",
       "      <td>7.672448e+12</td>\n",
       "      <td>8.230121e+12</td>\n",
       "      <td>8.797999e+12</td>\n",
       "      <td>68.93</td>\n",
       "      <td>1</td>\n",
       "      <td>Asia</td>\n",
       "      <td>1.367645e+09</td>\n",
       "    </tr>\n",
       "    <tr>\n",
       "      <th>United States</th>\n",
       "      <td>2</td>\n",
       "      <td>96661</td>\n",
       "      <td>94747</td>\n",
       "      <td>792274</td>\n",
       "      <td>265436</td>\n",
       "      <td>8.20</td>\n",
       "      <td>230</td>\n",
       "      <td>NaN</td>\n",
       "      <td>NaN</td>\n",
       "      <td>NaN</td>\n",
       "      <td>...</td>\n",
       "      <td>NaN</td>\n",
       "      <td>NaN</td>\n",
       "      <td>NaN</td>\n",
       "      <td>NaN</td>\n",
       "      <td>NaN</td>\n",
       "      <td>NaN</td>\n",
       "      <td>33.50</td>\n",
       "      <td>NaN</td>\n",
       "      <td>North America</td>\n",
       "      <td>NaN</td>\n",
       "    </tr>\n",
       "    <tr>\n",
       "      <th>Japan</th>\n",
       "      <td>3</td>\n",
       "      <td>30504</td>\n",
       "      <td>30287</td>\n",
       "      <td>223024</td>\n",
       "      <td>61554</td>\n",
       "      <td>7.31</td>\n",
       "      <td>134</td>\n",
       "      <td>1.898400e+10</td>\n",
       "      <td>149.0</td>\n",
       "      <td>10.23282</td>\n",
       "      <td>...</td>\n",
       "      <td>5.498718e+12</td>\n",
       "      <td>5.473738e+12</td>\n",
       "      <td>5.569102e+12</td>\n",
       "      <td>5.644659e+12</td>\n",
       "      <td>5.642884e+12</td>\n",
       "      <td>5.669563e+12</td>\n",
       "      <td>27.60</td>\n",
       "      <td>0</td>\n",
       "      <td>Asia</td>\n",
       "      <td>1.274094e+08</td>\n",
       "    </tr>\n",
       "    <tr>\n",
       "      <th>United Kingdom</th>\n",
       "      <td>4</td>\n",
       "      <td>20944</td>\n",
       "      <td>20357</td>\n",
       "      <td>206091</td>\n",
       "      <td>37874</td>\n",
       "      <td>9.84</td>\n",
       "      <td>139</td>\n",
       "      <td>NaN</td>\n",
       "      <td>NaN</td>\n",
       "      <td>NaN</td>\n",
       "      <td>...</td>\n",
       "      <td>NaN</td>\n",
       "      <td>NaN</td>\n",
       "      <td>NaN</td>\n",
       "      <td>NaN</td>\n",
       "      <td>NaN</td>\n",
       "      <td>NaN</td>\n",
       "      <td>18.38</td>\n",
       "      <td>NaN</td>\n",
       "      <td>Europe</td>\n",
       "      <td>NaN</td>\n",
       "    </tr>\n",
       "    <tr>\n",
       "      <th>Russian Federation</th>\n",
       "      <td>5</td>\n",
       "      <td>18534</td>\n",
       "      <td>18301</td>\n",
       "      <td>34266</td>\n",
       "      <td>12422</td>\n",
       "      <td>1.85</td>\n",
       "      <td>57</td>\n",
       "      <td>3.070900e+10</td>\n",
       "      <td>214.0</td>\n",
       "      <td>17.28868</td>\n",
       "      <td>...</td>\n",
       "      <td>1.524917e+12</td>\n",
       "      <td>1.589943e+12</td>\n",
       "      <td>1.645876e+12</td>\n",
       "      <td>1.666934e+12</td>\n",
       "      <td>1.678709e+12</td>\n",
       "      <td>1.616149e+12</td>\n",
       "      <td>36.25</td>\n",
       "      <td>0</td>\n",
       "      <td>Europe</td>\n",
       "      <td>1.435000e+08</td>\n",
       "    </tr>\n",
       "  </tbody>\n",
       "</table>\n",
       "<p>5 rows × 24 columns</p>\n",
       "</div>"
      ],
      "text/plain": [
       "                    Rank  Documents  Citable documents  Citations  \\\n",
       "Country                                                             \n",
       "China                  1     127050             126767     597237   \n",
       "United States          2      96661              94747     792274   \n",
       "Japan                  3      30504              30287     223024   \n",
       "United Kingdom         4      20944              20357     206091   \n",
       "Russian Federation     5      18534              18301      34266   \n",
       "\n",
       "                    Self-citations  Citations per document  H index  \\\n",
       "Country                                                               \n",
       "China                       411683                    4.70      138   \n",
       "United States               265436                    8.20      230   \n",
       "Japan                        61554                    7.31      134   \n",
       "United Kingdom               37874                    9.84      139   \n",
       "Russian Federation           12422                    1.85       57   \n",
       "\n",
       "                    Energy Supply  Energy Supply per Capita  % Renewable  ...  \\\n",
       "Country                                                                   ...   \n",
       "China                1.271910e+11                      93.0     19.75491  ...   \n",
       "United States                 NaN                       NaN          NaN  ...   \n",
       "Japan                1.898400e+10                     149.0     10.23282  ...   \n",
       "United Kingdom                NaN                       NaN          NaN  ...   \n",
       "Russian Federation   3.070900e+10                     214.0     17.28868  ...   \n",
       "\n",
       "                            2010          2011          2012          2013  \\\n",
       "Country                                                                      \n",
       "China               6.039659e+12  6.612490e+12  7.124978e+12  7.672448e+12   \n",
       "United States                NaN           NaN           NaN           NaN   \n",
       "Japan               5.498718e+12  5.473738e+12  5.569102e+12  5.644659e+12   \n",
       "United Kingdom               NaN           NaN           NaN           NaN   \n",
       "Russian Federation  1.524917e+12  1.589943e+12  1.645876e+12  1.666934e+12   \n",
       "\n",
       "                            2014          2015  citations ratio %  \\\n",
       "Country                                                             \n",
       "China               8.230121e+12  8.797999e+12              68.93   \n",
       "United States                NaN           NaN              33.50   \n",
       "Japan               5.642884e+12  5.669563e+12              27.60   \n",
       "United Kingdom               NaN           NaN              18.38   \n",
       "Russian Federation  1.678709e+12  1.616149e+12              36.25   \n",
       "\n",
       "                    Renewable Segmentation      Continent    Population  \n",
       "Country                                                                  \n",
       "China                                    1           Asia  1.367645e+09  \n",
       "United States                          NaN  North America           NaN  \n",
       "Japan                                    0           Asia  1.274094e+08  \n",
       "United Kingdom                         NaN         Europe           NaN  \n",
       "Russian Federation                       0         Europe  1.435000e+08  \n",
       "\n",
       "[5 rows x 24 columns]"
      ]
     },
     "execution_count": 43,
     "metadata": {},
     "output_type": "execute_result"
    }
   ],
   "source": [
    "required_df.head()"
   ]
  },
  {
   "cell_type": "markdown",
   "id": "color-bearing",
   "metadata": {},
   "source": [
    "### What is the size, Sum, meanand the STD for the estimated population for each country?\n"
   ]
  },
  {
   "cell_type": "code",
   "execution_count": 44,
   "id": "enhanced-person",
   "metadata": {
    "ExecuteTime": {
     "end_time": "2023-03-11T09:59:39.710038Z",
     "start_time": "2023-03-11T09:59:39.517933Z"
    }
   },
   "outputs": [],
   "source": [
    "Continent_stat = required_df.groupby('Continent')['Population'].agg([np.size , np.sum , np.mean , np.std])"
   ]
  },
  {
   "cell_type": "code",
   "execution_count": 45,
   "id": "veterinary-cover",
   "metadata": {
    "ExecuteTime": {
     "end_time": "2023-03-11T09:59:39.830875Z",
     "start_time": "2023-03-11T09:59:39.712895Z"
    }
   },
   "outputs": [
    {
     "data": {
      "text/html": [
       "<div>\n",
       "<style scoped>\n",
       "    .dataframe tbody tr th:only-of-type {\n",
       "        vertical-align: middle;\n",
       "    }\n",
       "\n",
       "    .dataframe tbody tr th {\n",
       "        vertical-align: top;\n",
       "    }\n",
       "\n",
       "    .dataframe thead th {\n",
       "        text-align: right;\n",
       "    }\n",
       "</style>\n",
       "<table border=\"1\" class=\"dataframe\">\n",
       "  <thead>\n",
       "    <tr style=\"text-align: right;\">\n",
       "      <th></th>\n",
       "      <th>size</th>\n",
       "      <th>sum</th>\n",
       "      <th>mean</th>\n",
       "      <th>std</th>\n",
       "    </tr>\n",
       "    <tr>\n",
       "      <th>Continent</th>\n",
       "      <th></th>\n",
       "      <th></th>\n",
       "      <th></th>\n",
       "      <th></th>\n",
       "    </tr>\n",
       "  </thead>\n",
       "  <tbody>\n",
       "    <tr>\n",
       "      <th>Asia</th>\n",
       "      <td>5.0</td>\n",
       "      <td>2.821591e+09</td>\n",
       "      <td>7.053977e+08</td>\n",
       "      <td>7.138779e+08</td>\n",
       "    </tr>\n",
       "    <tr>\n",
       "      <th>Australia</th>\n",
       "      <td>1.0</td>\n",
       "      <td>2.331602e+07</td>\n",
       "      <td>2.331602e+07</td>\n",
       "      <td>NaN</td>\n",
       "    </tr>\n",
       "    <tr>\n",
       "      <th>Europe</th>\n",
       "      <td>6.0</td>\n",
       "      <td>3.940587e+08</td>\n",
       "      <td>7.881174e+07</td>\n",
       "      <td>3.813228e+07</td>\n",
       "    </tr>\n",
       "    <tr>\n",
       "      <th>North America</th>\n",
       "      <td>2.0</td>\n",
       "      <td>3.523986e+07</td>\n",
       "      <td>3.523986e+07</td>\n",
       "      <td>NaN</td>\n",
       "    </tr>\n",
       "    <tr>\n",
       "      <th>South America</th>\n",
       "      <td>1.0</td>\n",
       "      <td>2.059153e+08</td>\n",
       "      <td>2.059153e+08</td>\n",
       "      <td>NaN</td>\n",
       "    </tr>\n",
       "  </tbody>\n",
       "</table>\n",
       "</div>"
      ],
      "text/plain": [
       "               size           sum          mean           std\n",
       "Continent                                                    \n",
       "Asia            5.0  2.821591e+09  7.053977e+08  7.138779e+08\n",
       "Australia       1.0  2.331602e+07  2.331602e+07           NaN\n",
       "Europe          6.0  3.940587e+08  7.881174e+07  3.813228e+07\n",
       "North America   2.0  3.523986e+07  3.523986e+07           NaN\n",
       "South America   1.0  2.059153e+08  2.059153e+08           NaN"
      ]
     },
     "execution_count": 45,
     "metadata": {},
     "output_type": "execute_result"
    }
   ],
   "source": [
    "Continent_stat"
   ]
  },
  {
   "cell_type": "code",
   "execution_count": null,
   "id": "coordinated-tolerance",
   "metadata": {},
   "outputs": [],
   "source": []
  }
 ],
 "metadata": {
  "kernelspec": {
   "display_name": "Python 3",
   "language": "python",
   "name": "python3"
  },
  "language_info": {
   "codemirror_mode": {
    "name": "ipython",
    "version": 3
   },
   "file_extension": ".py",
   "mimetype": "text/x-python",
   "name": "python",
   "nbconvert_exporter": "python",
   "pygments_lexer": "ipython3",
   "version": "3.8.5"
  },
  "toc": {
   "base_numbering": 1,
   "nav_menu": {},
   "number_sections": true,
   "sideBar": true,
   "skip_h1_title": false,
   "title_cell": "Table of Contents",
   "title_sidebar": "Contents",
   "toc_cell": false,
   "toc_position": {},
   "toc_section_display": true,
   "toc_window_display": false
  }
 },
 "nbformat": 4,
 "nbformat_minor": 5
}
